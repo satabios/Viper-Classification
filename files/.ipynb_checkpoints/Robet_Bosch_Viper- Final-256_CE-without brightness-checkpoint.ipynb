{
 "cells": [
  {
   "cell_type": "code",
   "execution_count": 1,
   "metadata": {
    "colab": {
     "base_uri": "https://localhost:8080/"
    },
    "id": "Mqhvo9EvN4zZ",
    "outputId": "f3cf11a3-2e55-4bd4-83dc-f16e514ec888"
   },
   "outputs": [],
   "source": [
    "# from google.colab import drive\n",
    "# drive.mount('/content/drive')"
   ]
  },
  {
   "cell_type": "code",
   "execution_count": 2,
   "metadata": {
    "colab": {
     "base_uri": "https://localhost:8080/",
     "height": 887
    },
    "id": "Kjhx8hHdN6CT",
    "outputId": "6fe246c9-4d3c-42e8-e559-450b99a875c0"
   },
   "outputs": [],
   "source": [
    "# %cd /content/drive/MyDrive/Robert_Bosch/dataset/Test_data/\n",
    "# %ls \n",
    "# # %mkdir -p dataset\n",
    "# !pip install ipdb\n",
    "# # !unzip Test_data.zip -d dataset"
   ]
  },
  {
   "cell_type": "code",
   "execution_count": 3,
   "metadata": {},
   "outputs": [
    {
     "name": "stdout",
     "output_type": "stream",
     "text": [
      "'CE_loss-epoch=193-valid_acc=0.781.ckpt'\r\n",
      "'eff-ns-b7_focal[Training].ipynb'\r\n",
      " \u001b[0m\u001b[01;34mlightning_logs\u001b[0m/\r\n",
      "'Model Infer.ipynb'\r\n",
      " Robet_Bosch_Viper-Eff-Copy1.ipynb\r\n",
      " Robet_Bosch_Viper-Eff.ipynb\r\n",
      "'Robet_Bosch_Viper- Final-256_CE.ipynb'\r\n",
      "'Robet_Bosch_Viper- Final-256CE.ipynb'\r\n",
      "'Robet_Bosch_Viper- Final-256_CE-without brightness.ipynb'\r\n",
      "'Robet_Bosch_Viper- Final-Copy2.ipynb'\r\n",
      "'Robet_Bosch_Viper- Final.ipynb'\r\n",
      "'Robet_Bosch_Viper- Transforms with dropout.ipynb'\r\n",
      " Robet_Bosch_Viper-Triplet.ipynb\r\n",
      "'Robet_Bosch_Viper- Vanilla.ipynb'\r\n",
      " Sample_Submission.csv\r\n",
      " \u001b[01;34mTest\u001b[0m/\r\n",
      " \u001b[01;34mTrain\u001b[0m/\r\n",
      " \u001b[01;34mVal\u001b[0m/\r\n",
      " \u001b[01;34mwandb\u001b[0m/\r\n",
      " \u001b[01;34mweights\u001b[0m/\r\n"
     ]
    }
   ],
   "source": [
    "%ls"
   ]
  },
  {
   "cell_type": "code",
   "execution_count": 4,
   "metadata": {
    "colab": {
     "base_uri": "https://localhost:8080/"
    },
    "id": "oJJIIJrvOxgn",
    "outputId": "f81e88c2-2258-4f6a-d0c0-4a23c5bb41b9"
   },
   "outputs": [
    {
     "name": "stdout",
     "output_type": "stream",
     "text": [
      "Data Points:\n",
      "Train: 970 Test: 2910\n"
     ]
    }
   ],
   "source": [
    "import glob\n",
    "import numpy as np\n",
    "import matplotlib.pyplot as plt\n",
    "import cv2\n",
    "import ipdb \n",
    "import pandas as pd\n",
    "import os\n",
    "os.chdir('./')\n",
    "train_test_val = 0\n",
    "dataset = []\n",
    "k_fold = True\n",
    "folders_to_look = ['Train/','Val/'] if k_fold==True else ['Train/']\n",
    "classes = [cl.split('/')[1] for cl in glob.glob('Train/'+'/*')] #Class names\n",
    "cls_len = len(glob.glob('Train/'+'/*')) #Number of Classes in the dataset\n",
    "\n",
    "for folder in glob.iglob('*/'):\n",
    "    if(train_test_val == 0):\n",
    "        if(folder in folders_to_look):\n",
    "            for classess in glob.glob(folder+'/*'):\n",
    "                for files in glob.iglob(classess+\"/*.jpg\"):\n",
    "                    img_path = files\n",
    "                    class_id = classes.index(files.split('/')[1])\n",
    "                    dataset.append((img_path,class_id))\n",
    "\n",
    "df = pd.DataFrame(dataset,columns=['image_path','class'])\n",
    "# dataset = np.asarray(dataset)\n",
    "train_df, val_df = df.iloc[:970],df.iloc[970:]\n",
    "print(\"Data Points:\")\n",
    "print(\"Train:\",len(train_df),\"Test:\",len(val_df))\n",
    "\n",
    "\n",
    "#Checking for Class Imbalance\n",
    "cls, counts = np.unique(train_df['class'].values, return_counts=True)\n",
    "# print([print(\"class:\",classes[cls[i]],\"counts:\",counts[i]) for i in range(cls_len)])\n",
    "# Hence no class imbalance\n",
    "\n"
   ]
  },
  {
   "cell_type": "code",
   "execution_count": 5,
   "metadata": {},
   "outputs": [],
   "source": [
    "class config:\n",
    "    triplet = True\n",
    "    num_classes = len(classes)\n",
    "    clases = classes\n",
    "    train_batch_size = 8*4 # Reduce if triplet is True, defualt : 8*4*4\n",
    "    val_batch_size = 8*4*4"
   ]
  },
  {
   "cell_type": "code",
   "execution_count": 6,
   "metadata": {
    "colab": {
     "base_uri": "https://localhost:8080/"
    },
    "id": "_XaqO3MNyaFy",
    "outputId": "3c755ae2-7333-4ae9-b999-d845d7e4a267"
   },
   "outputs": [
    {
     "name": "stderr",
     "output_type": "stream",
     "text": [
      "/data/sathya/anaconda3/envs/pytorch/lib/python3.9/site-packages/pandas/core/indexing.py:1732: SettingWithCopyWarning: \n",
      "A value is trying to be set on a copy of a slice from a DataFrame\n",
      "\n",
      "See the caveats in the documentation: https://pandas.pydata.org/pandas-docs/stable/user_guide/indexing.html#returning-a-view-versus-a-copy\n",
      "  self._setitem_single_block(indexer, value, name)\n"
     ]
    }
   ],
   "source": [
    "#k-Fold Validation\n",
    "\n",
    "from sklearn.model_selection import StratifiedKFold\n",
    "skf = StratifiedKFold(n_splits=6)\n",
    "skf.get_n_splits(len(df))\n",
    "fold = 0\n",
    "df['fold'] =0 \n",
    "for train_index, test_index in skf.split(df['image_path'],df['class']):\n",
    "    df['fold'].loc[test_index]=fold\n",
    "    fold+=1\n",
    "    "
   ]
  },
  {
   "cell_type": "code",
   "execution_count": 7,
   "metadata": {},
   "outputs": [
    {
     "data": {
      "text/plain": [
       "['human', 'animal', 'truck', 'car', 'airplane']"
      ]
     },
     "execution_count": 7,
     "metadata": {},
     "output_type": "execute_result"
    }
   ],
   "source": [
    "classes"
   ]
  },
  {
   "cell_type": "code",
   "execution_count": 8,
   "metadata": {
    "id": "wzLAAA_Kxjxw"
   },
   "outputs": [],
   "source": [
    "\n",
    "import torch\n",
    "from skimage import io, transform\n",
    "import numpy as np\n",
    "\n",
    "import matplotlib.pyplot as plt\n",
    "from skimage import io\n",
    "from torch.utils.data import Dataset, DataLoader\n",
    "from torchvision import transforms, utils\n",
    "from pytorch_lightning.callbacks import ModelCheckpoint\n",
    "from torchcontrib.optim import SWA\n",
    "from pytorch_lightning.metrics import Metric\n",
    "from pytorch_lightning.callbacks import ModelCheckpoint, EarlyStopping\n",
    "import albumentations as A\n",
    "from albumentations.pytorch import ToTensorV2\n",
    "import imgaug.augmenters as iaa\n",
    "\n",
    "\n",
    "class vdataset(Dataset):\n",
    "    def __init__(self, df, triplet=False, transform=None):\n",
    "        self.df = df\n",
    "        self.transforms = transform\n",
    "        self.triplet = triplet\n",
    "    def __len__(self):\n",
    "        return len(self.df)\n",
    "    def read_image(self, image_path):\n",
    "        image = cv2.imread(image_path).astype(np.float32)\n",
    "        image = (image-np.min(image))/(np.max(image)-np.min(image))\n",
    "        \n",
    "        if self.transforms:\n",
    "            image = self.transforms(image=image)\n",
    "            image = image['image']\n",
    "        else:\n",
    "            image = np.moveaxis(image,-1,0)\n",
    "        return image\n",
    "        \n",
    "    def __getitem__(self, idx):\n",
    "        data = self.df.iloc[idx]\n",
    "        anchor_image_path, anchor_label = data['image_path'], data['class']\n",
    "        anchor_image = self.read_image(anchor_image_path)\n",
    "        \n",
    "        if self.triplet:                  #For Siamese Triplet Learning\n",
    "            if(anchor_label ==1 or anchor_label ==2 or anchor_label ==3):\n",
    "                if(anchor_label ==1):\n",
    "                    p=[0.4,0,0.2,0.2,0.2]\n",
    "                elif(anchor_label ==2):\n",
    "                    p=[0.2,0.2,0,0.4,0.2]\n",
    "                elif(anchor_label ==3):\n",
    "                    p=[0.2,0.2,0.4,0,0.2]\n",
    "\n",
    "                anchor_label_neg =np.random.choice(range(5),size=1,p=p)\n",
    "                negative_index = np.random.choice(train_df[train_df['class']==anchor_label_neg[0]].index)\n",
    "                negative_image_path, negative_label = train_df.iloc[negative_index]\n",
    "                negative_image = self.read_image(negative_image_path)\n",
    "                \n",
    "                \n",
    "            else:\n",
    "                \n",
    "                negative_index = np.random.choice(train_df[train_df['class']!=anchor_label].index)\n",
    "                negative_image_path, negative_label = train_df.iloc[negative_index]\n",
    "                negative_image = self.read_image(negative_image_path)\n",
    "\n",
    "\n",
    "            positive_index = np.random.choice(train_df[train_df['class']==anchor_label].index)\n",
    "            positive_image_path, positive_label = train_df.iloc[positive_index]\n",
    "            positive_image = self.read_image(positive_image_path)\n",
    "\n",
    "            return (anchor_image,anchor_label), (positive_image, positive_label),(negative_image, negative_label)\n",
    "        \n",
    "        else:\n",
    "            return anchor_image,torch.tensor(anchor_label)\n",
    "\n"
   ]
  },
  {
   "cell_type": "code",
   "execution_count": 9,
   "metadata": {
    "colab": {
     "base_uri": "https://localhost:8080/",
     "height": 309
    },
    "id": "SUvaycUw5nZ0",
    "outputId": "5a4c2578-8330-4e8e-e834-af103a5e96d7"
   },
   "outputs": [
    {
     "data": {
      "image/png": "[encoded data removed]",
      "text/plain": [
       "<Figure size 432x288 with 15 Axes>"
      ]
     },
     "metadata": {
      "needs_background": "light"
     },
     "output_type": "display_data"
    }
   ],
   "source": [
    "train_transform = A.Compose(\n",
    "    [\n",
    "#        A.ShiftScaleRotate(rotate_limit=(-360, 360), shift_limit=(0.1, 0.12), scale_limit=(0.1, 0.12)),\n",
    "       A.HorizontalFlip(p=0.5),\n",
    "       A.Sharpen(alpha=(0.3,0.5), lightness=(0.5, 1.0), always_apply= False, p=0.6) ,\n",
    "       A.Rotate (limit=180),\n",
    "#       A.RandomBrightnessContrast(brightness_limit=0.3,contrast_limit=0.2,p=0.5),\n",
    "#         iaa.Sequential([\n",
    "#         iaa.Canny(alpha=(0.0, 0.6))\n",
    "#              ]).augment_image,\n",
    "#       A.Affine (scale=None, translate_percent=None, translate_px=None, rotate=None, shear=(0,15),\n",
    "#                 interpolation=1, cval=0, cval_mask=0, mode=0, fit_output=False, always_apply=False, p=0.5),\n",
    "#        A.RandomBrightnessContrast(contrast_limit=0.2, always_apply=False, p=0.5),\n",
    "#        A.Perspective(scale=(0.05, 0.1)),\n",
    "#        A.Affine (scale=1,translate_percent=0.1,fit_output=True),\n",
    "       ToTensorV2(),\n",
    "    ]\n",
    ")\n",
    "\n",
    "\n",
    "\n",
    "\n",
    "valid_transform = A.Compose(\n",
    "    [\n",
    "       ToTensorV2(),\n",
    "    ]\n",
    ")\n",
    "\n",
    "val_dataset = vdataset(val_df, transform = valid_transform)\n",
    "\n",
    "val_dataloader = DataLoader(val_dataset, batch_size=8*4*4,\n",
    "                        shuffle=False, num_workers=32)\n",
    "\n",
    "if (config.triplet==True):\n",
    "    #Triplet Visualization\n",
    "\n",
    "    train_dataset_triplet = vdataset(train_df,triplet=True, transform = train_transform)\n",
    "\n",
    "\n",
    "    train_dataloader_triplet = DataLoader(train_dataset_triplet, batch_size=8,\n",
    "                            shuffle=True, num_workers=32)\n",
    "    \n",
    "    \n",
    "    fig, axs = plt.subplots(5, 3)\n",
    "    fig.tight_layout()\n",
    "    cls_ind = 0\n",
    "    for i in range(5):\n",
    "\n",
    "        (anc,cls),(pos,cls),(neg,neg_cls) = train_dataset_triplet.__getitem__(197*i+1)\n",
    "        axs[i][0].imshow(anc[0,:],cmap='gray',aspect='auto')\n",
    "        axs[i][0].set_title(classes[cls])\n",
    "        axs[i][1].imshow(pos[0,:],cmap='gray', aspect='auto')\n",
    "        axs[i][1].set_title(classes[cls])\n",
    "        axs[i][2].imshow(neg[0,:],cmap='gray', aspect='auto')\n",
    "        axs[i][2].set_title(classes[neg_cls])\n",
    "\n",
    "    plt.show()\n",
    "    \n",
    "else:\n",
    "    train_dataset = vdataset(train_df, transform = train_transform)\n",
    "\n",
    "\n",
    "\n",
    "    train_dataloader = DataLoader(train_dataset, batch_size=8*4*4,\n",
    "                        shuffle=True, num_workers=32)\n",
    "    fig, axs = plt.subplots(2,3)\n",
    "    fig.tight_layout()\n",
    "    cls_ind = 0\n",
    "    for i in range(2):\n",
    "        for j in range(3):\n",
    "            test_sample,cls = train_dataset.__getitem__(190*cls_ind)\n",
    "            axs[i][j].imshow(test_sample[0,:],cmap='gray', aspect='auto')\n",
    "            axs[i][j].set_title(classes[cls])\n",
    "            cls_ind+=1\n",
    "    plt.show()\n"
   ]
  },
  {
   "cell_type": "code",
   "execution_count": 10,
   "metadata": {
    "colab": {
     "base_uri": "https://localhost:8080/"
    },
    "id": "lCL6eEUxvdBv",
    "outputId": "e5425e52-188e-4904-89d4-0dc56734b66d"
   },
   "outputs": [
    {
     "name": "stdout",
     "output_type": "stream",
     "text": [
      "==========================================================================================\n",
      "Layer (type:depth-idx)                   Output Shape              Param #\n",
      "==========================================================================================\n",
      "├─Conv2d: 1-1                            [-1, 8, 96, 96]           216\n",
      "├─BatchNorm2d: 1-2                       [-1, 8, 96, 96]           16\n",
      "├─ReLU: 1-3                              [-1, 8, 96, 96]           --\n",
      "├─Conv2d: 1-4                            [-1, 16, 96, 96]          1,152\n",
      "├─BatchNorm2d: 1-5                       [-1, 16, 96, 96]          32\n",
      "├─ReLU: 1-6                              [-1, 16, 96, 96]          --\n",
      "├─Sequential: 1-7                        [-1, 16, 96, 96]          --\n",
      "|    └─res_block: 2-1                    [-1, 16, 96, 96]          --\n",
      "|    |    └─Conv2d: 3-1                  [-1, 16, 96, 96]          2,304\n",
      "|    |    └─BatchNorm2d: 3-2             [-1, 16, 96, 96]          32\n",
      "|    |    └─ReLU: 3-3                    [-1, 16, 96, 96]          --\n",
      "|    |    └─Conv2d: 3-4                  [-1, 16, 96, 96]          2,304\n",
      "|    |    └─BatchNorm2d: 3-5             [-1, 16, 96, 96]          32\n",
      "|    |    └─ReLU: 3-6                    [-1, 16, 96, 96]          --\n",
      "|    └─res_block: 2-2                    [-1, 16, 96, 96]          --\n",
      "|    |    └─Conv2d: 3-7                  [-1, 16, 96, 96]          2,304\n",
      "|    |    └─BatchNorm2d: 3-8             [-1, 16, 96, 96]          32\n",
      "|    |    └─ReLU: 3-9                    [-1, 16, 96, 96]          --\n",
      "|    |    └─Conv2d: 3-10                 [-1, 16, 96, 96]          2,304\n",
      "|    |    └─BatchNorm2d: 3-11            [-1, 16, 96, 96]          32\n",
      "|    |    └─ReLU: 3-12                   [-1, 16, 96, 96]          --\n",
      "|    └─res_block: 2-3                    [-1, 16, 96, 96]          --\n",
      "|    |    └─Conv2d: 3-13                 [-1, 16, 96, 96]          2,304\n",
      "|    |    └─BatchNorm2d: 3-14            [-1, 16, 96, 96]          32\n",
      "|    |    └─ReLU: 3-15                   [-1, 16, 96, 96]          --\n",
      "|    |    └─Conv2d: 3-16                 [-1, 16, 96, 96]          2,304\n",
      "|    |    └─BatchNorm2d: 3-17            [-1, 16, 96, 96]          32\n",
      "|    |    └─ReLU: 3-18                   [-1, 16, 96, 96]          --\n",
      "|    └─res_block: 2-4                    [-1, 16, 96, 96]          --\n",
      "|    |    └─Conv2d: 3-19                 [-1, 16, 96, 96]          2,304\n",
      "|    |    └─BatchNorm2d: 3-20            [-1, 16, 96, 96]          32\n",
      "|    |    └─ReLU: 3-21                   [-1, 16, 96, 96]          --\n",
      "|    |    └─Conv2d: 3-22                 [-1, 16, 96, 96]          2,304\n",
      "|    |    └─BatchNorm2d: 3-23            [-1, 16, 96, 96]          32\n",
      "|    |    └─ReLU: 3-24                   [-1, 16, 96, 96]          --\n",
      "|    └─res_block: 2-5                    [-1, 16, 96, 96]          --\n",
      "|    |    └─Conv2d: 3-25                 [-1, 16, 96, 96]          2,304\n",
      "|    |    └─BatchNorm2d: 3-26            [-1, 16, 96, 96]          32\n",
      "|    |    └─ReLU: 3-27                   [-1, 16, 96, 96]          --\n",
      "|    |    └─Conv2d: 3-28                 [-1, 16, 96, 96]          2,304\n",
      "|    |    └─BatchNorm2d: 3-29            [-1, 16, 96, 96]          32\n",
      "|    |    └─ReLU: 3-30                   [-1, 16, 96, 96]          --\n",
      "|    └─res_block: 2-6                    [-1, 16, 96, 96]          --\n",
      "|    |    └─Conv2d: 3-31                 [-1, 16, 96, 96]          2,304\n",
      "|    |    └─BatchNorm2d: 3-32            [-1, 16, 96, 96]          32\n",
      "|    |    └─ReLU: 3-33                   [-1, 16, 96, 96]          --\n",
      "|    |    └─Conv2d: 3-34                 [-1, 16, 96, 96]          2,304\n",
      "|    |    └─BatchNorm2d: 3-35            [-1, 16, 96, 96]          32\n",
      "|    |    └─ReLU: 3-36                   [-1, 16, 96, 96]          --\n",
      "|    └─res_block: 2-7                    [-1, 16, 96, 96]          --\n",
      "|    |    └─Conv2d: 3-37                 [-1, 16, 96, 96]          2,304\n",
      "|    |    └─BatchNorm2d: 3-38            [-1, 16, 96, 96]          32\n",
      "|    |    └─ReLU: 3-39                   [-1, 16, 96, 96]          --\n",
      "|    |    └─Conv2d: 3-40                 [-1, 16, 96, 96]          2,304\n",
      "|    |    └─BatchNorm2d: 3-41            [-1, 16, 96, 96]          32\n",
      "|    |    └─ReLU: 3-42                   [-1, 16, 96, 96]          --\n",
      "|    └─res_block: 2-8                    [-1, 16, 96, 96]          --\n",
      "|    |    └─Conv2d: 3-43                 [-1, 16, 96, 96]          2,304\n",
      "|    |    └─BatchNorm2d: 3-44            [-1, 16, 96, 96]          32\n",
      "|    |    └─ReLU: 3-45                   [-1, 16, 96, 96]          --\n",
      "|    |    └─Conv2d: 3-46                 [-1, 16, 96, 96]          2,304\n",
      "|    |    └─BatchNorm2d: 3-47            [-1, 16, 96, 96]          32\n",
      "|    |    └─ReLU: 3-48                   [-1, 16, 96, 96]          --\n",
      "├─Sequential: 1-8                        [-1, 32, 48, 48]          --\n",
      "|    └─res_block: 2-9                    [-1, 32, 48, 48]          --\n",
      "|    |    └─Conv2d: 3-49                 [-1, 32, 48, 48]          4,608\n",
      "|    |    └─BatchNorm2d: 3-50            [-1, 32, 48, 48]          64\n",
      "|    |    └─ReLU: 3-51                   [-1, 32, 48, 48]          --\n",
      "|    |    └─Conv2d: 3-52                 [-1, 32, 48, 48]          9,216\n",
      "|    |    └─BatchNorm2d: 3-53            [-1, 32, 48, 48]          64\n",
      "|    |    └─Sequential: 3-54             [-1, 32, 48, 48]          4,672\n",
      "|    |    └─ReLU: 3-55                   [-1, 32, 48, 48]          --\n",
      "|    └─res_block: 2-10                   [-1, 32, 48, 48]          --\n",
      "|    |    └─Conv2d: 3-56                 [-1, 32, 48, 48]          9,216\n",
      "|    |    └─BatchNorm2d: 3-57            [-1, 32, 48, 48]          64\n",
      "|    |    └─ReLU: 3-58                   [-1, 32, 48, 48]          --\n",
      "|    |    └─Conv2d: 3-59                 [-1, 32, 48, 48]          9,216\n",
      "|    |    └─BatchNorm2d: 3-60            [-1, 32, 48, 48]          64\n",
      "|    |    └─ReLU: 3-61                   [-1, 32, 48, 48]          --\n",
      "|    └─res_block: 2-11                   [-1, 32, 48, 48]          --\n",
      "|    |    └─Conv2d: 3-62                 [-1, 32, 48, 48]          9,216\n",
      "|    |    └─BatchNorm2d: 3-63            [-1, 32, 48, 48]          64\n",
      "|    |    └─ReLU: 3-64                   [-1, 32, 48, 48]          --\n",
      "|    |    └─Conv2d: 3-65                 [-1, 32, 48, 48]          9,216\n",
      "|    |    └─BatchNorm2d: 3-66            [-1, 32, 48, 48]          64\n",
      "|    |    └─ReLU: 3-67                   [-1, 32, 48, 48]          --\n",
      "|    └─res_block: 2-12                   [-1, 32, 48, 48]          --\n",
      "|    |    └─Conv2d: 3-68                 [-1, 32, 48, 48]          9,216\n",
      "|    |    └─BatchNorm2d: 3-69            [-1, 32, 48, 48]          64\n",
      "|    |    └─ReLU: 3-70                   [-1, 32, 48, 48]          --\n",
      "|    |    └─Conv2d: 3-71                 [-1, 32, 48, 48]          9,216\n",
      "|    |    └─BatchNorm2d: 3-72            [-1, 32, 48, 48]          64\n",
      "|    |    └─ReLU: 3-73                   [-1, 32, 48, 48]          --\n",
      "|    └─res_block: 2-13                   [-1, 32, 48, 48]          --\n",
      "|    |    └─Conv2d: 3-74                 [-1, 32, 48, 48]          9,216\n",
      "|    |    └─BatchNorm2d: 3-75            [-1, 32, 48, 48]          64\n",
      "|    |    └─ReLU: 3-76                   [-1, 32, 48, 48]          --\n",
      "|    |    └─Conv2d: 3-77                 [-1, 32, 48, 48]          9,216\n",
      "|    |    └─BatchNorm2d: 3-78            [-1, 32, 48, 48]          64\n",
      "|    |    └─ReLU: 3-79                   [-1, 32, 48, 48]          --\n",
      "|    └─res_block: 2-14                   [-1, 32, 48, 48]          --\n",
      "|    |    └─Conv2d: 3-80                 [-1, 32, 48, 48]          9,216\n",
      "|    |    └─BatchNorm2d: 3-81            [-1, 32, 48, 48]          64\n",
      "|    |    └─ReLU: 3-82                   [-1, 32, 48, 48]          --\n",
      "|    |    └─Conv2d: 3-83                 [-1, 32, 48, 48]          9,216\n",
      "|    |    └─BatchNorm2d: 3-84            [-1, 32, 48, 48]          64\n",
      "|    |    └─ReLU: 3-85                   [-1, 32, 48, 48]          --\n",
      "|    └─res_block: 2-15                   [-1, 32, 48, 48]          --\n",
      "|    |    └─Conv2d: 3-86                 [-1, 32, 48, 48]          9,216\n",
      "|    |    └─BatchNorm2d: 3-87            [-1, 32, 48, 48]          64\n",
      "|    |    └─ReLU: 3-88                   [-1, 32, 48, 48]          --\n",
      "|    |    └─Conv2d: 3-89                 [-1, 32, 48, 48]          9,216\n",
      "|    |    └─BatchNorm2d: 3-90            [-1, 32, 48, 48]          64\n",
      "|    |    └─ReLU: 3-91                   [-1, 32, 48, 48]          --\n",
      "|    └─res_block: 2-16                   [-1, 32, 48, 48]          --\n",
      "|    |    └─Conv2d: 3-92                 [-1, 32, 48, 48]          9,216\n",
      "|    |    └─BatchNorm2d: 3-93            [-1, 32, 48, 48]          64\n",
      "|    |    └─ReLU: 3-94                   [-1, 32, 48, 48]          --\n",
      "|    |    └─Conv2d: 3-95                 [-1, 32, 48, 48]          9,216\n",
      "|    |    └─BatchNorm2d: 3-96            [-1, 32, 48, 48]          64\n",
      "|    |    └─ReLU: 3-97                   [-1, 32, 48, 48]          --\n",
      "|    └─res_block: 2-17                   [-1, 32, 48, 48]          --\n",
      "|    |    └─Conv2d: 3-98                 [-1, 32, 48, 48]          9,216\n",
      "|    |    └─BatchNorm2d: 3-99            [-1, 32, 48, 48]          64\n",
      "|    |    └─ReLU: 3-100                  [-1, 32, 48, 48]          --\n",
      "|    |    └─Conv2d: 3-101                [-1, 32, 48, 48]          9,216\n",
      "|    |    └─BatchNorm2d: 3-102           [-1, 32, 48, 48]          64\n",
      "|    |    └─ReLU: 3-103                  [-1, 32, 48, 48]          --\n",
      "|    └─res_block: 2-18                   [-1, 32, 48, 48]          --\n",
      "|    |    └─Conv2d: 3-104                [-1, 32, 48, 48]          9,216\n",
      "|    |    └─BatchNorm2d: 3-105           [-1, 32, 48, 48]          64\n",
      "|    |    └─ReLU: 3-106                  [-1, 32, 48, 48]          --\n",
      "|    |    └─Conv2d: 3-107                [-1, 32, 48, 48]          9,216\n",
      "|    |    └─BatchNorm2d: 3-108           [-1, 32, 48, 48]          64\n",
      "|    |    └─ReLU: 3-109                  [-1, 32, 48, 48]          --\n",
      "|    └─res_block: 2-19                   [-1, 32, 48, 48]          --\n",
      "|    |    └─Conv2d: 3-110                [-1, 32, 48, 48]          9,216\n",
      "|    |    └─BatchNorm2d: 3-111           [-1, 32, 48, 48]          64\n",
      "|    |    └─ReLU: 3-112                  [-1, 32, 48, 48]          --\n",
      "|    |    └─Conv2d: 3-113                [-1, 32, 48, 48]          9,216\n",
      "|    |    └─BatchNorm2d: 3-114           [-1, 32, 48, 48]          64\n",
      "|    |    └─ReLU: 3-115                  [-1, 32, 48, 48]          --\n",
      "|    └─res_block: 2-20                   [-1, 32, 48, 48]          --\n",
      "|    |    └─Conv2d: 3-116                [-1, 32, 48, 48]          9,216\n",
      "|    |    └─BatchNorm2d: 3-117           [-1, 32, 48, 48]          64\n",
      "|    |    └─ReLU: 3-118                  [-1, 32, 48, 48]          --\n",
      "|    |    └─Conv2d: 3-119                [-1, 32, 48, 48]          9,216\n",
      "|    |    └─BatchNorm2d: 3-120           [-1, 32, 48, 48]          64\n",
      "|    |    └─ReLU: 3-121                  [-1, 32, 48, 48]          --\n",
      "|    └─res_block: 2-21                   [-1, 32, 48, 48]          --\n",
      "|    |    └─Conv2d: 3-122                [-1, 32, 48, 48]          9,216\n",
      "|    |    └─BatchNorm2d: 3-123           [-1, 32, 48, 48]          64\n",
      "|    |    └─ReLU: 3-124                  [-1, 32, 48, 48]          --\n",
      "|    |    └─Conv2d: 3-125                [-1, 32, 48, 48]          9,216\n",
      "|    |    └─BatchNorm2d: 3-126           [-1, 32, 48, 48]          64\n",
      "|    |    └─ReLU: 3-127                  [-1, 32, 48, 48]          --\n",
      "|    └─res_block: 2-22                   [-1, 32, 48, 48]          --\n",
      "|    |    └─Conv2d: 3-128                [-1, 32, 48, 48]          9,216\n",
      "|    |    └─BatchNorm2d: 3-129           [-1, 32, 48, 48]          64\n",
      "|    |    └─ReLU: 3-130                  [-1, 32, 48, 48]          --\n",
      "|    |    └─Conv2d: 3-131                [-1, 32, 48, 48]          9,216\n",
      "|    |    └─BatchNorm2d: 3-132           [-1, 32, 48, 48]          64\n",
      "|    |    └─ReLU: 3-133                  [-1, 32, 48, 48]          --\n",
      "|    └─res_block: 2-23                   [-1, 32, 48, 48]          --\n",
      "|    |    └─Conv2d: 3-134                [-1, 32, 48, 48]          9,216\n",
      "|    |    └─BatchNorm2d: 3-135           [-1, 32, 48, 48]          64\n",
      "|    |    └─ReLU: 3-136                  [-1, 32, 48, 48]          --\n",
      "|    |    └─Conv2d: 3-137                [-1, 32, 48, 48]          9,216\n",
      "|    |    └─BatchNorm2d: 3-138           [-1, 32, 48, 48]          64\n",
      "|    |    └─ReLU: 3-139                  [-1, 32, 48, 48]          --\n",
      "|    └─res_block: 2-24                   [-1, 32, 48, 48]          --\n",
      "|    |    └─Conv2d: 3-140                [-1, 32, 48, 48]          9,216\n",
      "|    |    └─BatchNorm2d: 3-141           [-1, 32, 48, 48]          64\n",
      "|    |    └─ReLU: 3-142                  [-1, 32, 48, 48]          --\n",
      "|    |    └─Conv2d: 3-143                [-1, 32, 48, 48]          9,216\n",
      "|    |    └─BatchNorm2d: 3-144           [-1, 32, 48, 48]          64\n",
      "|    |    └─ReLU: 3-145                  [-1, 32, 48, 48]          --\n",
      "|    └─res_block: 2-25                   [-1, 32, 48, 48]          --\n",
      "|    |    └─Conv2d: 3-146                [-1, 32, 48, 48]          9,216\n",
      "|    |    └─BatchNorm2d: 3-147           [-1, 32, 48, 48]          64\n",
      "|    |    └─ReLU: 3-148                  [-1, 32, 48, 48]          --\n",
      "|    |    └─Conv2d: 3-149                [-1, 32, 48, 48]          9,216\n",
      "|    |    └─BatchNorm2d: 3-150           [-1, 32, 48, 48]          64\n",
      "|    |    └─ReLU: 3-151                  [-1, 32, 48, 48]          --\n",
      "|    └─res_block: 2-26                   [-1, 32, 48, 48]          --\n",
      "|    |    └─Conv2d: 3-152                [-1, 32, 48, 48]          9,216\n",
      "|    |    └─BatchNorm2d: 3-153           [-1, 32, 48, 48]          64\n",
      "|    |    └─ReLU: 3-154                  [-1, 32, 48, 48]          --\n",
      "|    |    └─Conv2d: 3-155                [-1, 32, 48, 48]          9,216\n",
      "|    |    └─BatchNorm2d: 3-156           [-1, 32, 48, 48]          64\n",
      "|    |    └─ReLU: 3-157                  [-1, 32, 48, 48]          --\n",
      "|    └─res_block: 2-27                   [-1, 32, 48, 48]          --\n",
      "|    |    └─Conv2d: 3-158                [-1, 32, 48, 48]          9,216\n",
      "|    |    └─BatchNorm2d: 3-159           [-1, 32, 48, 48]          64\n",
      "|    |    └─ReLU: 3-160                  [-1, 32, 48, 48]          --\n",
      "|    |    └─Conv2d: 3-161                [-1, 32, 48, 48]          9,216\n",
      "|    |    └─BatchNorm2d: 3-162           [-1, 32, 48, 48]          64\n",
      "|    |    └─ReLU: 3-163                  [-1, 32, 48, 48]          --\n",
      "|    └─res_block: 2-28                   [-1, 32, 48, 48]          --\n",
      "|    |    └─Conv2d: 3-164                [-1, 32, 48, 48]          9,216\n",
      "|    |    └─BatchNorm2d: 3-165           [-1, 32, 48, 48]          64\n",
      "|    |    └─ReLU: 3-166                  [-1, 32, 48, 48]          --\n",
      "|    |    └─Conv2d: 3-167                [-1, 32, 48, 48]          9,216\n",
      "|    |    └─BatchNorm2d: 3-168           [-1, 32, 48, 48]          64\n",
      "|    |    └─ReLU: 3-169                  [-1, 32, 48, 48]          --\n",
      "|    └─res_block: 2-29                   [-1, 32, 48, 48]          --\n",
      "|    |    └─Conv2d: 3-170                [-1, 32, 48, 48]          9,216\n",
      "|    |    └─BatchNorm2d: 3-171           [-1, 32, 48, 48]          64\n",
      "|    |    └─ReLU: 3-172                  [-1, 32, 48, 48]          --\n",
      "|    |    └─Conv2d: 3-173                [-1, 32, 48, 48]          9,216\n",
      "|    |    └─BatchNorm2d: 3-174           [-1, 32, 48, 48]          64\n",
      "|    |    └─ReLU: 3-175                  [-1, 32, 48, 48]          --\n",
      "|    └─res_block: 2-30                   [-1, 32, 48, 48]          --\n",
      "|    |    └─Conv2d: 3-176                [-1, 32, 48, 48]          9,216\n",
      "|    |    └─BatchNorm2d: 3-177           [-1, 32, 48, 48]          64\n",
      "|    |    └─ReLU: 3-178                  [-1, 32, 48, 48]          --\n",
      "|    |    └─Conv2d: 3-179                [-1, 32, 48, 48]          9,216\n",
      "|    |    └─BatchNorm2d: 3-180           [-1, 32, 48, 48]          64\n",
      "|    |    └─ReLU: 3-181                  [-1, 32, 48, 48]          --\n",
      "|    └─res_block: 2-31                   [-1, 32, 48, 48]          --\n",
      "|    |    └─Conv2d: 3-182                [-1, 32, 48, 48]          9,216\n",
      "|    |    └─BatchNorm2d: 3-183           [-1, 32, 48, 48]          64\n",
      "|    |    └─ReLU: 3-184                  [-1, 32, 48, 48]          --\n",
      "|    |    └─Conv2d: 3-185                [-1, 32, 48, 48]          9,216\n",
      "|    |    └─BatchNorm2d: 3-186           [-1, 32, 48, 48]          64\n",
      "|    |    └─ReLU: 3-187                  [-1, 32, 48, 48]          --\n",
      "|    └─res_block: 2-32                   [-1, 32, 48, 48]          --\n",
      "|    |    └─Conv2d: 3-188                [-1, 32, 48, 48]          9,216\n",
      "|    |    └─BatchNorm2d: 3-189           [-1, 32, 48, 48]          64\n",
      "|    |    └─ReLU: 3-190                  [-1, 32, 48, 48]          --\n",
      "|    |    └─Conv2d: 3-191                [-1, 32, 48, 48]          9,216\n",
      "|    |    └─BatchNorm2d: 3-192           [-1, 32, 48, 48]          64\n",
      "|    |    └─ReLU: 3-193                  [-1, 32, 48, 48]          --\n",
      "|    └─res_block: 2-33                   [-1, 32, 48, 48]          --\n",
      "|    |    └─Conv2d: 3-194                [-1, 32, 48, 48]          9,216\n",
      "|    |    └─BatchNorm2d: 3-195           [-1, 32, 48, 48]          64\n",
      "|    |    └─ReLU: 3-196                  [-1, 32, 48, 48]          --\n",
      "|    |    └─Conv2d: 3-197                [-1, 32, 48, 48]          9,216\n",
      "|    |    └─BatchNorm2d: 3-198           [-1, 32, 48, 48]          64\n",
      "|    |    └─ReLU: 3-199                  [-1, 32, 48, 48]          --\n",
      "|    └─res_block: 2-34                   [-1, 32, 48, 48]          --\n",
      "|    |    └─Conv2d: 3-200                [-1, 32, 48, 48]          9,216\n",
      "|    |    └─BatchNorm2d: 3-201           [-1, 32, 48, 48]          64\n",
      "|    |    └─ReLU: 3-202                  [-1, 32, 48, 48]          --\n",
      "|    |    └─Conv2d: 3-203                [-1, 32, 48, 48]          9,216\n",
      "|    |    └─BatchNorm2d: 3-204           [-1, 32, 48, 48]          64\n",
      "|    |    └─ReLU: 3-205                  [-1, 32, 48, 48]          --\n",
      "|    └─res_block: 2-35                   [-1, 32, 48, 48]          --\n",
      "|    |    └─Conv2d: 3-206                [-1, 32, 48, 48]          9,216\n",
      "|    |    └─BatchNorm2d: 3-207           [-1, 32, 48, 48]          64\n",
      "|    |    └─ReLU: 3-208                  [-1, 32, 48, 48]          --\n",
      "|    |    └─Conv2d: 3-209                [-1, 32, 48, 48]          9,216\n",
      "|    |    └─BatchNorm2d: 3-210           [-1, 32, 48, 48]          64\n",
      "|    |    └─ReLU: 3-211                  [-1, 32, 48, 48]          --\n",
      "|    └─res_block: 2-36                   [-1, 32, 48, 48]          --\n",
      "|    |    └─Conv2d: 3-212                [-1, 32, 48, 48]          9,216\n",
      "|    |    └─BatchNorm2d: 3-213           [-1, 32, 48, 48]          64\n",
      "|    |    └─ReLU: 3-214                  [-1, 32, 48, 48]          --\n",
      "|    |    └─Conv2d: 3-215                [-1, 32, 48, 48]          9,216\n",
      "|    |    └─BatchNorm2d: 3-216           [-1, 32, 48, 48]          64\n",
      "|    |    └─ReLU: 3-217                  [-1, 32, 48, 48]          --\n",
      "|    └─res_block: 2-37                   [-1, 32, 48, 48]          --\n",
      "|    |    └─Conv2d: 3-218                [-1, 32, 48, 48]          9,216\n",
      "|    |    └─BatchNorm2d: 3-219           [-1, 32, 48, 48]          64\n",
      "|    |    └─ReLU: 3-220                  [-1, 32, 48, 48]          --\n",
      "|    |    └─Conv2d: 3-221                [-1, 32, 48, 48]          9,216\n",
      "|    |    └─BatchNorm2d: 3-222           [-1, 32, 48, 48]          64\n",
      "|    |    └─ReLU: 3-223                  [-1, 32, 48, 48]          --\n",
      "|    └─res_block: 2-38                   [-1, 32, 48, 48]          --\n",
      "|    |    └─Conv2d: 3-224                [-1, 32, 48, 48]          9,216\n",
      "|    |    └─BatchNorm2d: 3-225           [-1, 32, 48, 48]          64\n",
      "|    |    └─ReLU: 3-226                  [-1, 32, 48, 48]          --\n",
      "|    |    └─Conv2d: 3-227                [-1, 32, 48, 48]          9,216\n",
      "|    |    └─BatchNorm2d: 3-228           [-1, 32, 48, 48]          64\n",
      "|    |    └─ReLU: 3-229                  [-1, 32, 48, 48]          --\n",
      "|    └─res_block: 2-39                   [-1, 32, 48, 48]          --\n",
      "|    |    └─Conv2d: 3-230                [-1, 32, 48, 48]          9,216\n",
      "|    |    └─BatchNorm2d: 3-231           [-1, 32, 48, 48]          64\n",
      "|    |    └─ReLU: 3-232                  [-1, 32, 48, 48]          --\n",
      "|    |    └─Conv2d: 3-233                [-1, 32, 48, 48]          9,216\n",
      "|    |    └─BatchNorm2d: 3-234           [-1, 32, 48, 48]          64\n",
      "|    |    └─ReLU: 3-235                  [-1, 32, 48, 48]          --\n",
      "|    └─res_block: 2-40                   [-1, 32, 48, 48]          --\n",
      "|    |    └─Conv2d: 3-236                [-1, 32, 48, 48]          9,216\n",
      "|    |    └─BatchNorm2d: 3-237           [-1, 32, 48, 48]          64\n",
      "|    |    └─ReLU: 3-238                  [-1, 32, 48, 48]          --\n",
      "|    |    └─Conv2d: 3-239                [-1, 32, 48, 48]          9,216\n",
      "|    |    └─BatchNorm2d: 3-240           [-1, 32, 48, 48]          64\n",
      "|    |    └─ReLU: 3-241                  [-1, 32, 48, 48]          --\n",
      "|    └─res_block: 2-41                   [-1, 32, 48, 48]          --\n",
      "|    |    └─Conv2d: 3-242                [-1, 32, 48, 48]          9,216\n",
      "|    |    └─BatchNorm2d: 3-243           [-1, 32, 48, 48]          64\n",
      "|    |    └─ReLU: 3-244                  [-1, 32, 48, 48]          --\n",
      "|    |    └─Conv2d: 3-245                [-1, 32, 48, 48]          9,216\n",
      "|    |    └─BatchNorm2d: 3-246           [-1, 32, 48, 48]          64\n",
      "|    |    └─ReLU: 3-247                  [-1, 32, 48, 48]          --\n",
      "|    └─res_block: 2-42                   [-1, 32, 48, 48]          --\n",
      "|    |    └─Conv2d: 3-248                [-1, 32, 48, 48]          9,216\n",
      "|    |    └─BatchNorm2d: 3-249           [-1, 32, 48, 48]          64\n",
      "|    |    └─ReLU: 3-250                  [-1, 32, 48, 48]          --\n",
      "|    |    └─Conv2d: 3-251                [-1, 32, 48, 48]          9,216\n",
      "|    |    └─BatchNorm2d: 3-252           [-1, 32, 48, 48]          64\n",
      "|    |    └─ReLU: 3-253                  [-1, 32, 48, 48]          --\n",
      "|    └─res_block: 2-43                   [-1, 32, 48, 48]          --\n",
      "|    |    └─Conv2d: 3-254                [-1, 32, 48, 48]          9,216\n",
      "|    |    └─BatchNorm2d: 3-255           [-1, 32, 48, 48]          64\n",
      "|    |    └─ReLU: 3-256                  [-1, 32, 48, 48]          --\n",
      "|    |    └─Conv2d: 3-257                [-1, 32, 48, 48]          9,216\n",
      "|    |    └─BatchNorm2d: 3-258           [-1, 32, 48, 48]          64\n",
      "|    |    └─ReLU: 3-259                  [-1, 32, 48, 48]          --\n",
      "|    └─res_block: 2-44                   [-1, 32, 48, 48]          --\n",
      "|    |    └─Conv2d: 3-260                [-1, 32, 48, 48]          9,216\n",
      "|    |    └─BatchNorm2d: 3-261           [-1, 32, 48, 48]          64\n",
      "|    |    └─ReLU: 3-262                  [-1, 32, 48, 48]          --\n",
      "|    |    └─Conv2d: 3-263                [-1, 32, 48, 48]          9,216\n",
      "|    |    └─BatchNorm2d: 3-264           [-1, 32, 48, 48]          64\n",
      "|    |    └─ReLU: 3-265                  [-1, 32, 48, 48]          --\n",
      "├─Sequential: 1-9                        [-1, 64, 24, 24]          --\n",
      "|    └─res_block: 2-45                   [-1, 64, 24, 24]          --\n",
      "|    |    └─Conv2d: 3-266                [-1, 64, 24, 24]          18,432\n",
      "|    |    └─BatchNorm2d: 3-267           [-1, 64, 24, 24]          128\n",
      "|    |    └─ReLU: 3-268                  [-1, 64, 24, 24]          --\n",
      "|    |    └─Conv2d: 3-269                [-1, 64, 24, 24]          36,864\n",
      "|    |    └─BatchNorm2d: 3-270           [-1, 64, 24, 24]          128\n",
      "|    |    └─Sequential: 3-271            [-1, 64, 24, 24]          18,560\n",
      "|    |    └─ReLU: 3-272                  [-1, 64, 24, 24]          --\n",
      "|    └─res_block: 2-46                   [-1, 64, 24, 24]          --\n",
      "|    |    └─Conv2d: 3-273                [-1, 64, 24, 24]          36,864\n",
      "|    |    └─BatchNorm2d: 3-274           [-1, 64, 24, 24]          128\n",
      "|    |    └─ReLU: 3-275                  [-1, 64, 24, 24]          --\n",
      "|    |    └─Conv2d: 3-276                [-1, 64, 24, 24]          36,864\n",
      "|    |    └─BatchNorm2d: 3-277           [-1, 64, 24, 24]          128\n",
      "|    |    └─ReLU: 3-278                  [-1, 64, 24, 24]          --\n",
      "|    └─res_block: 2-47                   [-1, 64, 24, 24]          --\n",
      "|    |    └─Conv2d: 3-279                [-1, 64, 24, 24]          36,864\n",
      "|    |    └─BatchNorm2d: 3-280           [-1, 64, 24, 24]          128\n",
      "|    |    └─ReLU: 3-281                  [-1, 64, 24, 24]          --\n",
      "|    |    └─Conv2d: 3-282                [-1, 64, 24, 24]          36,864\n",
      "|    |    └─BatchNorm2d: 3-283           [-1, 64, 24, 24]          128\n",
      "|    |    └─ReLU: 3-284                  [-1, 64, 24, 24]          --\n",
      "|    └─res_block: 2-48                   [-1, 64, 24, 24]          --\n",
      "|    |    └─Conv2d: 3-285                [-1, 64, 24, 24]          36,864\n",
      "|    |    └─BatchNorm2d: 3-286           [-1, 64, 24, 24]          128\n",
      "|    |    └─ReLU: 3-287                  [-1, 64, 24, 24]          --\n",
      "|    |    └─Conv2d: 3-288                [-1, 64, 24, 24]          36,864\n",
      "|    |    └─BatchNorm2d: 3-289           [-1, 64, 24, 24]          128\n",
      "|    |    └─ReLU: 3-290                  [-1, 64, 24, 24]          --\n",
      "|    └─res_block: 2-49                   [-1, 64, 24, 24]          --\n",
      "|    |    └─Conv2d: 3-291                [-1, 64, 24, 24]          36,864\n",
      "|    |    └─BatchNorm2d: 3-292           [-1, 64, 24, 24]          128\n",
      "|    |    └─ReLU: 3-293                  [-1, 64, 24, 24]          --\n",
      "|    |    └─Conv2d: 3-294                [-1, 64, 24, 24]          36,864\n",
      "|    |    └─BatchNorm2d: 3-295           [-1, 64, 24, 24]          128\n",
      "|    |    └─ReLU: 3-296                  [-1, 64, 24, 24]          --\n",
      "|    └─res_block: 2-50                   [-1, 64, 24, 24]          --\n",
      "|    |    └─Conv2d: 3-297                [-1, 64, 24, 24]          36,864\n",
      "|    |    └─BatchNorm2d: 3-298           [-1, 64, 24, 24]          128\n",
      "|    |    └─ReLU: 3-299                  [-1, 64, 24, 24]          --\n",
      "|    |    └─Conv2d: 3-300                [-1, 64, 24, 24]          36,864\n",
      "|    |    └─BatchNorm2d: 3-301           [-1, 64, 24, 24]          128\n",
      "|    |    └─ReLU: 3-302                  [-1, 64, 24, 24]          --\n",
      "|    └─res_block: 2-51                   [-1, 64, 24, 24]          --\n",
      "|    |    └─Conv2d: 3-303                [-1, 64, 24, 24]          36,864\n",
      "|    |    └─BatchNorm2d: 3-304           [-1, 64, 24, 24]          128\n",
      "|    |    └─ReLU: 3-305                  [-1, 64, 24, 24]          --\n",
      "|    |    └─Conv2d: 3-306                [-1, 64, 24, 24]          36,864\n",
      "|    |    └─BatchNorm2d: 3-307           [-1, 64, 24, 24]          128\n",
      "|    |    └─ReLU: 3-308                  [-1, 64, 24, 24]          --\n",
      "|    └─res_block: 2-52                   [-1, 64, 24, 24]          --\n",
      "|    |    └─Conv2d: 3-309                [-1, 64, 24, 24]          36,864\n",
      "|    |    └─BatchNorm2d: 3-310           [-1, 64, 24, 24]          128\n",
      "|    |    └─ReLU: 3-311                  [-1, 64, 24, 24]          --\n",
      "|    |    └─Conv2d: 3-312                [-1, 64, 24, 24]          36,864\n",
      "|    |    └─BatchNorm2d: 3-313           [-1, 64, 24, 24]          128\n",
      "|    |    └─ReLU: 3-314                  [-1, 64, 24, 24]          --\n",
      "|    └─res_block: 2-53                   [-1, 64, 24, 24]          --\n",
      "|    |    └─Conv2d: 3-315                [-1, 64, 24, 24]          36,864\n",
      "|    |    └─BatchNorm2d: 3-316           [-1, 64, 24, 24]          128\n",
      "|    |    └─ReLU: 3-317                  [-1, 64, 24, 24]          --\n",
      "|    |    └─Conv2d: 3-318                [-1, 64, 24, 24]          36,864\n",
      "|    |    └─BatchNorm2d: 3-319           [-1, 64, 24, 24]          128\n",
      "|    |    └─ReLU: 3-320                  [-1, 64, 24, 24]          --\n",
      "|    └─res_block: 2-54                   [-1, 64, 24, 24]          --\n",
      "|    |    └─Conv2d: 3-321                [-1, 64, 24, 24]          36,864\n",
      "|    |    └─BatchNorm2d: 3-322           [-1, 64, 24, 24]          128\n",
      "|    |    └─ReLU: 3-323                  [-1, 64, 24, 24]          --\n",
      "|    |    └─Conv2d: 3-324                [-1, 64, 24, 24]          36,864\n",
      "|    |    └─BatchNorm2d: 3-325           [-1, 64, 24, 24]          128\n",
      "|    |    └─ReLU: 3-326                  [-1, 64, 24, 24]          --\n",
      "|    └─res_block: 2-55                   [-1, 64, 24, 24]          --\n",
      "|    |    └─Conv2d: 3-327                [-1, 64, 24, 24]          36,864\n",
      "|    |    └─BatchNorm2d: 3-328           [-1, 64, 24, 24]          128\n",
      "|    |    └─ReLU: 3-329                  [-1, 64, 24, 24]          --\n",
      "|    |    └─Conv2d: 3-330                [-1, 64, 24, 24]          36,864\n",
      "|    |    └─BatchNorm2d: 3-331           [-1, 64, 24, 24]          128\n",
      "|    |    └─ReLU: 3-332                  [-1, 64, 24, 24]          --\n",
      "|    └─res_block: 2-56                   [-1, 64, 24, 24]          --\n",
      "|    |    └─Conv2d: 3-333                [-1, 64, 24, 24]          36,864\n",
      "|    |    └─BatchNorm2d: 3-334           [-1, 64, 24, 24]          128\n",
      "|    |    └─ReLU: 3-335                  [-1, 64, 24, 24]          --\n",
      "|    |    └─Conv2d: 3-336                [-1, 64, 24, 24]          36,864\n",
      "|    |    └─BatchNorm2d: 3-337           [-1, 64, 24, 24]          128\n",
      "|    |    └─ReLU: 3-338                  [-1, 64, 24, 24]          --\n",
      "|    └─res_block: 2-57                   [-1, 64, 24, 24]          --\n",
      "|    |    └─Conv2d: 3-339                [-1, 64, 24, 24]          36,864\n",
      "|    |    └─BatchNorm2d: 3-340           [-1, 64, 24, 24]          128\n",
      "|    |    └─ReLU: 3-341                  [-1, 64, 24, 24]          --\n",
      "|    |    └─Conv2d: 3-342                [-1, 64, 24, 24]          36,864\n",
      "|    |    └─BatchNorm2d: 3-343           [-1, 64, 24, 24]          128\n",
      "|    |    └─ReLU: 3-344                  [-1, 64, 24, 24]          --\n",
      "|    └─res_block: 2-58                   [-1, 64, 24, 24]          --\n",
      "|    |    └─Conv2d: 3-345                [-1, 64, 24, 24]          36,864\n",
      "|    |    └─BatchNorm2d: 3-346           [-1, 64, 24, 24]          128\n",
      "|    |    └─ReLU: 3-347                  [-1, 64, 24, 24]          --\n",
      "|    |    └─Conv2d: 3-348                [-1, 64, 24, 24]          36,864\n",
      "|    |    └─BatchNorm2d: 3-349           [-1, 64, 24, 24]          128\n",
      "|    |    └─ReLU: 3-350                  [-1, 64, 24, 24]          --\n",
      "|    └─res_block: 2-59                   [-1, 64, 24, 24]          --\n",
      "|    |    └─Conv2d: 3-351                [-1, 64, 24, 24]          36,864\n",
      "|    |    └─BatchNorm2d: 3-352           [-1, 64, 24, 24]          128\n",
      "|    |    └─ReLU: 3-353                  [-1, 64, 24, 24]          --\n",
      "|    |    └─Conv2d: 3-354                [-1, 64, 24, 24]          36,864\n",
      "|    |    └─BatchNorm2d: 3-355           [-1, 64, 24, 24]          128\n",
      "|    |    └─ReLU: 3-356                  [-1, 64, 24, 24]          --\n",
      "|    └─res_block: 2-60                   [-1, 64, 24, 24]          --\n",
      "|    |    └─Conv2d: 3-357                [-1, 64, 24, 24]          36,864\n",
      "|    |    └─BatchNorm2d: 3-358           [-1, 64, 24, 24]          128\n",
      "|    |    └─ReLU: 3-359                  [-1, 64, 24, 24]          --\n",
      "|    |    └─Conv2d: 3-360                [-1, 64, 24, 24]          36,864\n",
      "|    |    └─BatchNorm2d: 3-361           [-1, 64, 24, 24]          128\n",
      "|    |    └─ReLU: 3-362                  [-1, 64, 24, 24]          --\n",
      "|    └─res_block: 2-61                   [-1, 64, 24, 24]          --\n",
      "|    |    └─Conv2d: 3-363                [-1, 64, 24, 24]          36,864\n",
      "|    |    └─BatchNorm2d: 3-364           [-1, 64, 24, 24]          128\n",
      "|    |    └─ReLU: 3-365                  [-1, 64, 24, 24]          --\n",
      "|    |    └─Conv2d: 3-366                [-1, 64, 24, 24]          36,864\n",
      "|    |    └─BatchNorm2d: 3-367           [-1, 64, 24, 24]          128\n",
      "|    |    └─ReLU: 3-368                  [-1, 64, 24, 24]          --\n",
      "|    └─res_block: 2-62                   [-1, 64, 24, 24]          --\n",
      "|    |    └─Conv2d: 3-369                [-1, 64, 24, 24]          36,864\n",
      "|    |    └─BatchNorm2d: 3-370           [-1, 64, 24, 24]          128\n",
      "|    |    └─ReLU: 3-371                  [-1, 64, 24, 24]          --\n",
      "|    |    └─Conv2d: 3-372                [-1, 64, 24, 24]          36,864\n",
      "|    |    └─BatchNorm2d: 3-373           [-1, 64, 24, 24]          128\n",
      "|    |    └─ReLU: 3-374                  [-1, 64, 24, 24]          --\n",
      "|    └─res_block: 2-63                   [-1, 64, 24, 24]          --\n",
      "|    |    └─Conv2d: 3-375                [-1, 64, 24, 24]          36,864\n",
      "|    |    └─BatchNorm2d: 3-376           [-1, 64, 24, 24]          128\n",
      "|    |    └─ReLU: 3-377                  [-1, 64, 24, 24]          --\n",
      "|    |    └─Conv2d: 3-378                [-1, 64, 24, 24]          36,864\n",
      "|    |    └─BatchNorm2d: 3-379           [-1, 64, 24, 24]          128\n",
      "|    |    └─ReLU: 3-380                  [-1, 64, 24, 24]          --\n",
      "|    └─res_block: 2-64                   [-1, 64, 24, 24]          --\n",
      "|    |    └─Conv2d: 3-381                [-1, 64, 24, 24]          36,864\n",
      "|    |    └─BatchNorm2d: 3-382           [-1, 64, 24, 24]          128\n",
      "|    |    └─ReLU: 3-383                  [-1, 64, 24, 24]          --\n",
      "|    |    └─Conv2d: 3-384                [-1, 64, 24, 24]          36,864\n",
      "|    |    └─BatchNorm2d: 3-385           [-1, 64, 24, 24]          128\n",
      "|    |    └─ReLU: 3-386                  [-1, 64, 24, 24]          --\n",
      "|    └─res_block: 2-65                   [-1, 64, 24, 24]          --\n",
      "|    |    └─Conv2d: 3-387                [-1, 64, 24, 24]          36,864\n",
      "|    |    └─BatchNorm2d: 3-388           [-1, 64, 24, 24]          128\n",
      "|    |    └─ReLU: 3-389                  [-1, 64, 24, 24]          --\n",
      "|    |    └─Conv2d: 3-390                [-1, 64, 24, 24]          36,864\n",
      "|    |    └─BatchNorm2d: 3-391           [-1, 64, 24, 24]          128\n",
      "|    |    └─ReLU: 3-392                  [-1, 64, 24, 24]          --\n",
      "|    └─res_block: 2-66                   [-1, 64, 24, 24]          --\n",
      "|    |    └─Conv2d: 3-393                [-1, 64, 24, 24]          36,864\n",
      "|    |    └─BatchNorm2d: 3-394           [-1, 64, 24, 24]          128\n",
      "|    |    └─ReLU: 3-395                  [-1, 64, 24, 24]          --\n",
      "|    |    └─Conv2d: 3-396                [-1, 64, 24, 24]          36,864\n",
      "|    |    └─BatchNorm2d: 3-397           [-1, 64, 24, 24]          128\n",
      "|    |    └─ReLU: 3-398                  [-1, 64, 24, 24]          --\n",
      "|    └─res_block: 2-67                   [-1, 64, 24, 24]          --\n",
      "|    |    └─Conv2d: 3-399                [-1, 64, 24, 24]          36,864\n",
      "|    |    └─BatchNorm2d: 3-400           [-1, 64, 24, 24]          128\n",
      "|    |    └─ReLU: 3-401                  [-1, 64, 24, 24]          --\n",
      "|    |    └─Conv2d: 3-402                [-1, 64, 24, 24]          36,864\n",
      "|    |    └─BatchNorm2d: 3-403           [-1, 64, 24, 24]          128\n",
      "|    |    └─ReLU: 3-404                  [-1, 64, 24, 24]          --\n",
      "|    └─res_block: 2-68                   [-1, 64, 24, 24]          --\n",
      "|    |    └─Conv2d: 3-405                [-1, 64, 24, 24]          36,864\n",
      "|    |    └─BatchNorm2d: 3-406           [-1, 64, 24, 24]          128\n",
      "|    |    └─ReLU: 3-407                  [-1, 64, 24, 24]          --\n",
      "|    |    └─Conv2d: 3-408                [-1, 64, 24, 24]          36,864\n",
      "|    |    └─BatchNorm2d: 3-409           [-1, 64, 24, 24]          128\n",
      "|    |    └─ReLU: 3-410                  [-1, 64, 24, 24]          --\n",
      "|    └─res_block: 2-69                   [-1, 64, 24, 24]          --\n",
      "|    |    └─Conv2d: 3-411                [-1, 64, 24, 24]          36,864\n",
      "|    |    └─BatchNorm2d: 3-412           [-1, 64, 24, 24]          128\n",
      "|    |    └─ReLU: 3-413                  [-1, 64, 24, 24]          --\n",
      "|    |    └─Conv2d: 3-414                [-1, 64, 24, 24]          36,864\n",
      "|    |    └─BatchNorm2d: 3-415           [-1, 64, 24, 24]          128\n",
      "|    |    └─ReLU: 3-416                  [-1, 64, 24, 24]          --\n",
      "|    └─res_block: 2-70                   [-1, 64, 24, 24]          --\n",
      "|    |    └─Conv2d: 3-417                [-1, 64, 24, 24]          36,864\n",
      "|    |    └─BatchNorm2d: 3-418           [-1, 64, 24, 24]          128\n",
      "|    |    └─ReLU: 3-419                  [-1, 64, 24, 24]          --\n",
      "|    |    └─Conv2d: 3-420                [-1, 64, 24, 24]          36,864\n",
      "|    |    └─BatchNorm2d: 3-421           [-1, 64, 24, 24]          128\n",
      "|    |    └─ReLU: 3-422                  [-1, 64, 24, 24]          --\n",
      "|    └─res_block: 2-71                   [-1, 64, 24, 24]          --\n",
      "|    |    └─Conv2d: 3-423                [-1, 64, 24, 24]          36,864\n",
      "|    |    └─BatchNorm2d: 3-424           [-1, 64, 24, 24]          128\n",
      "|    |    └─ReLU: 3-425                  [-1, 64, 24, 24]          --\n",
      "|    |    └─Conv2d: 3-426                [-1, 64, 24, 24]          36,864\n",
      "|    |    └─BatchNorm2d: 3-427           [-1, 64, 24, 24]          128\n",
      "|    |    └─ReLU: 3-428                  [-1, 64, 24, 24]          --\n",
      "|    └─res_block: 2-72                   [-1, 64, 24, 24]          --\n",
      "|    |    └─Conv2d: 3-429                [-1, 64, 24, 24]          36,864\n",
      "|    |    └─BatchNorm2d: 3-430           [-1, 64, 24, 24]          128\n",
      "|    |    └─ReLU: 3-431                  [-1, 64, 24, 24]          --\n",
      "|    |    └─Conv2d: 3-432                [-1, 64, 24, 24]          36,864\n",
      "|    |    └─BatchNorm2d: 3-433           [-1, 64, 24, 24]          128\n",
      "|    |    └─ReLU: 3-434                  [-1, 64, 24, 24]          --\n",
      "|    └─res_block: 2-73                   [-1, 64, 24, 24]          --\n",
      "|    |    └─Conv2d: 3-435                [-1, 64, 24, 24]          36,864\n",
      "|    |    └─BatchNorm2d: 3-436           [-1, 64, 24, 24]          128\n",
      "|    |    └─ReLU: 3-437                  [-1, 64, 24, 24]          --\n",
      "|    |    └─Conv2d: 3-438                [-1, 64, 24, 24]          36,864\n",
      "|    |    └─BatchNorm2d: 3-439           [-1, 64, 24, 24]          128\n",
      "|    |    └─ReLU: 3-440                  [-1, 64, 24, 24]          --\n",
      "|    └─res_block: 2-74                   [-1, 64, 24, 24]          --\n",
      "|    |    └─Conv2d: 3-441                [-1, 64, 24, 24]          36,864\n",
      "|    |    └─BatchNorm2d: 3-442           [-1, 64, 24, 24]          128\n",
      "|    |    └─ReLU: 3-443                  [-1, 64, 24, 24]          --\n",
      "|    |    └─Conv2d: 3-444                [-1, 64, 24, 24]          36,864\n",
      "|    |    └─BatchNorm2d: 3-445           [-1, 64, 24, 24]          128\n",
      "|    |    └─ReLU: 3-446                  [-1, 64, 24, 24]          --\n",
      "|    └─res_block: 2-75                   [-1, 64, 24, 24]          --\n",
      "|    |    └─Conv2d: 3-447                [-1, 64, 24, 24]          36,864\n",
      "|    |    └─BatchNorm2d: 3-448           [-1, 64, 24, 24]          128\n",
      "|    |    └─ReLU: 3-449                  [-1, 64, 24, 24]          --\n",
      "|    |    └─Conv2d: 3-450                [-1, 64, 24, 24]          36,864\n",
      "|    |    └─BatchNorm2d: 3-451           [-1, 64, 24, 24]          128\n",
      "|    |    └─ReLU: 3-452                  [-1, 64, 24, 24]          --\n",
      "|    └─res_block: 2-76                   [-1, 64, 24, 24]          --\n",
      "|    |    └─Conv2d: 3-453                [-1, 64, 24, 24]          36,864\n",
      "|    |    └─BatchNorm2d: 3-454           [-1, 64, 24, 24]          128\n",
      "|    |    └─ReLU: 3-455                  [-1, 64, 24, 24]          --\n",
      "|    |    └─Conv2d: 3-456                [-1, 64, 24, 24]          36,864\n",
      "|    |    └─BatchNorm2d: 3-457           [-1, 64, 24, 24]          128\n",
      "|    |    └─ReLU: 3-458                  [-1, 64, 24, 24]          --\n",
      "|    └─res_block: 2-77                   [-1, 64, 24, 24]          --\n",
      "|    |    └─Conv2d: 3-459                [-1, 64, 24, 24]          36,864\n",
      "|    |    └─BatchNorm2d: 3-460           [-1, 64, 24, 24]          128\n",
      "|    |    └─ReLU: 3-461                  [-1, 64, 24, 24]          --\n",
      "|    |    └─Conv2d: 3-462                [-1, 64, 24, 24]          36,864\n",
      "|    |    └─BatchNorm2d: 3-463           [-1, 64, 24, 24]          128\n",
      "|    |    └─ReLU: 3-464                  [-1, 64, 24, 24]          --\n",
      "|    └─res_block: 2-78                   [-1, 64, 24, 24]          --\n",
      "|    |    └─Conv2d: 3-465                [-1, 64, 24, 24]          36,864\n",
      "|    |    └─BatchNorm2d: 3-466           [-1, 64, 24, 24]          128\n",
      "|    |    └─ReLU: 3-467                  [-1, 64, 24, 24]          --\n",
      "|    |    └─Conv2d: 3-468                [-1, 64, 24, 24]          36,864\n",
      "|    |    └─BatchNorm2d: 3-469           [-1, 64, 24, 24]          128\n",
      "|    |    └─ReLU: 3-470                  [-1, 64, 24, 24]          --\n",
      "|    └─res_block: 2-79                   [-1, 64, 24, 24]          --\n",
      "|    |    └─Conv2d: 3-471                [-1, 64, 24, 24]          36,864\n",
      "|    |    └─BatchNorm2d: 3-472           [-1, 64, 24, 24]          128\n",
      "|    |    └─ReLU: 3-473                  [-1, 64, 24, 24]          --\n",
      "|    |    └─Conv2d: 3-474                [-1, 64, 24, 24]          36,864\n",
      "|    |    └─BatchNorm2d: 3-475           [-1, 64, 24, 24]          128\n",
      "|    |    └─ReLU: 3-476                  [-1, 64, 24, 24]          --\n",
      "|    └─res_block: 2-80                   [-1, 64, 24, 24]          --\n",
      "|    |    └─Conv2d: 3-477                [-1, 64, 24, 24]          36,864\n",
      "|    |    └─BatchNorm2d: 3-478           [-1, 64, 24, 24]          128\n",
      "|    |    └─ReLU: 3-479                  [-1, 64, 24, 24]          --\n",
      "|    |    └─Conv2d: 3-480                [-1, 64, 24, 24]          36,864\n",
      "|    |    └─BatchNorm2d: 3-481           [-1, 64, 24, 24]          128\n",
      "|    |    └─ReLU: 3-482                  [-1, 64, 24, 24]          --\n",
      "|    └─res_block: 2-81                   [-1, 64, 24, 24]          --\n",
      "|    |    └─Conv2d: 3-483                [-1, 64, 24, 24]          36,864\n",
      "|    |    └─BatchNorm2d: 3-484           [-1, 64, 24, 24]          128\n",
      "|    |    └─ReLU: 3-485                  [-1, 64, 24, 24]          --\n",
      "|    |    └─Conv2d: 3-486                [-1, 64, 24, 24]          36,864\n",
      "|    |    └─BatchNorm2d: 3-487           [-1, 64, 24, 24]          128\n",
      "|    |    └─ReLU: 3-488                  [-1, 64, 24, 24]          --\n",
      "|    └─res_block: 2-82                   [-1, 64, 24, 24]          --\n",
      "|    |    └─Conv2d: 3-489                [-1, 64, 24, 24]          36,864\n",
      "|    |    └─BatchNorm2d: 3-490           [-1, 64, 24, 24]          128\n",
      "|    |    └─ReLU: 3-491                  [-1, 64, 24, 24]          --\n",
      "|    |    └─Conv2d: 3-492                [-1, 64, 24, 24]          36,864\n",
      "|    |    └─BatchNorm2d: 3-493           [-1, 64, 24, 24]          128\n",
      "|    |    └─ReLU: 3-494                  [-1, 64, 24, 24]          --\n",
      "|    └─res_block: 2-83                   [-1, 64, 24, 24]          --\n",
      "|    |    └─Conv2d: 3-495                [-1, 64, 24, 24]          36,864\n",
      "|    |    └─BatchNorm2d: 3-496           [-1, 64, 24, 24]          128\n",
      "|    |    └─ReLU: 3-497                  [-1, 64, 24, 24]          --\n",
      "|    |    └─Conv2d: 3-498                [-1, 64, 24, 24]          36,864\n",
      "|    |    └─BatchNorm2d: 3-499           [-1, 64, 24, 24]          128\n",
      "|    |    └─ReLU: 3-500                  [-1, 64, 24, 24]          --\n",
      "|    └─res_block: 2-84                   [-1, 64, 24, 24]          --\n",
      "|    |    └─Conv2d: 3-501                [-1, 64, 24, 24]          36,864\n",
      "|    |    └─BatchNorm2d: 3-502           [-1, 64, 24, 24]          128\n",
      "|    |    └─ReLU: 3-503                  [-1, 64, 24, 24]          --\n",
      "|    |    └─Conv2d: 3-504                [-1, 64, 24, 24]          36,864\n",
      "|    |    └─BatchNorm2d: 3-505           [-1, 64, 24, 24]          128\n",
      "|    |    └─ReLU: 3-506                  [-1, 64, 24, 24]          --\n",
      "|    └─res_block: 2-85                   [-1, 64, 24, 24]          --\n",
      "|    |    └─Conv2d: 3-507                [-1, 64, 24, 24]          36,864\n",
      "|    |    └─BatchNorm2d: 3-508           [-1, 64, 24, 24]          128\n",
      "|    |    └─ReLU: 3-509                  [-1, 64, 24, 24]          --\n",
      "|    |    └─Conv2d: 3-510                [-1, 64, 24, 24]          36,864\n",
      "|    |    └─BatchNorm2d: 3-511           [-1, 64, 24, 24]          128\n",
      "|    |    └─ReLU: 3-512                  [-1, 64, 24, 24]          --\n",
      "|    └─res_block: 2-86                   [-1, 64, 24, 24]          --\n",
      "|    |    └─Conv2d: 3-513                [-1, 64, 24, 24]          36,864\n",
      "|    |    └─BatchNorm2d: 3-514           [-1, 64, 24, 24]          128\n",
      "|    |    └─ReLU: 3-515                  [-1, 64, 24, 24]          --\n",
      "|    |    └─Conv2d: 3-516                [-1, 64, 24, 24]          36,864\n",
      "|    |    └─BatchNorm2d: 3-517           [-1, 64, 24, 24]          128\n",
      "|    |    └─ReLU: 3-518                  [-1, 64, 24, 24]          --\n",
      "|    └─res_block: 2-87                   [-1, 64, 24, 24]          --\n",
      "|    |    └─Conv2d: 3-519                [-1, 64, 24, 24]          36,864\n",
      "|    |    └─BatchNorm2d: 3-520           [-1, 64, 24, 24]          128\n",
      "|    |    └─ReLU: 3-521                  [-1, 64, 24, 24]          --\n",
      "|    |    └─Conv2d: 3-522                [-1, 64, 24, 24]          36,864\n",
      "|    |    └─BatchNorm2d: 3-523           [-1, 64, 24, 24]          128\n",
      "|    |    └─ReLU: 3-524                  [-1, 64, 24, 24]          --\n",
      "|    └─res_block: 2-88                   [-1, 64, 24, 24]          --\n",
      "|    |    └─Conv2d: 3-525                [-1, 64, 24, 24]          36,864\n",
      "|    |    └─BatchNorm2d: 3-526           [-1, 64, 24, 24]          128\n",
      "|    |    └─ReLU: 3-527                  [-1, 64, 24, 24]          --\n",
      "|    |    └─Conv2d: 3-528                [-1, 64, 24, 24]          36,864\n",
      "|    |    └─BatchNorm2d: 3-529           [-1, 64, 24, 24]          128\n",
      "|    |    └─ReLU: 3-530                  [-1, 64, 24, 24]          --\n",
      "|    └─res_block: 2-89                   [-1, 64, 24, 24]          --\n",
      "|    |    └─Conv2d: 3-531                [-1, 64, 24, 24]          36,864\n",
      "|    |    └─BatchNorm2d: 3-532           [-1, 64, 24, 24]          128\n",
      "|    |    └─ReLU: 3-533                  [-1, 64, 24, 24]          --\n",
      "|    |    └─Conv2d: 3-534                [-1, 64, 24, 24]          36,864\n",
      "|    |    └─BatchNorm2d: 3-535           [-1, 64, 24, 24]          128\n",
      "|    |    └─ReLU: 3-536                  [-1, 64, 24, 24]          --\n",
      "|    └─res_block: 2-90                   [-1, 64, 24, 24]          --\n",
      "|    |    └─Conv2d: 3-537                [-1, 64, 24, 24]          36,864\n",
      "|    |    └─BatchNorm2d: 3-538           [-1, 64, 24, 24]          128\n",
      "|    |    └─ReLU: 3-539                  [-1, 64, 24, 24]          --\n",
      "|    |    └─Conv2d: 3-540                [-1, 64, 24, 24]          36,864\n",
      "|    |    └─BatchNorm2d: 3-541           [-1, 64, 24, 24]          128\n",
      "|    |    └─ReLU: 3-542                  [-1, 64, 24, 24]          --\n",
      "|    └─res_block: 2-91                   [-1, 64, 24, 24]          --\n",
      "|    |    └─Conv2d: 3-543                [-1, 64, 24, 24]          36,864\n",
      "|    |    └─BatchNorm2d: 3-544           [-1, 64, 24, 24]          128\n",
      "|    |    └─ReLU: 3-545                  [-1, 64, 24, 24]          --\n",
      "|    |    └─Conv2d: 3-546                [-1, 64, 24, 24]          36,864\n",
      "|    |    └─BatchNorm2d: 3-547           [-1, 64, 24, 24]          128\n",
      "|    |    └─ReLU: 3-548                  [-1, 64, 24, 24]          --\n",
      "|    └─res_block: 2-92                   [-1, 64, 24, 24]          --\n",
      "|    |    └─Conv2d: 3-549                [-1, 64, 24, 24]          36,864\n",
      "|    |    └─BatchNorm2d: 3-550           [-1, 64, 24, 24]          128\n",
      "|    |    └─ReLU: 3-551                  [-1, 64, 24, 24]          --\n",
      "|    |    └─Conv2d: 3-552                [-1, 64, 24, 24]          36,864\n",
      "|    |    └─BatchNorm2d: 3-553           [-1, 64, 24, 24]          128\n",
      "|    |    └─ReLU: 3-554                  [-1, 64, 24, 24]          --\n",
      "├─AvgPool2d: 1-10                        [-1, 64, 3, 3]            --\n",
      "├─Linear: 1-11                           [-1, 256]                 147,712\n",
      "==========================================================================================\n",
      "Total params: 4,406,088\n",
      "Trainable params: 4,406,088\n",
      "Non-trainable params: 0\n",
      "Total mult-adds (G): 3.93\n",
      "==========================================================================================\n",
      "Input size (MB): 0.11\n",
      "Forward/backward pass size (MB): 176.06\n",
      "Params size (MB): 16.81\n",
      "Estimated Total Size (MB): 192.98\n",
      "==========================================================================================\n"
     ]
    },
    {
     "data": {
      "text/plain": [
       "==========================================================================================\n",
       "Layer (type:depth-idx)                   Output Shape              Param #\n",
       "==========================================================================================\n",
       "├─Conv2d: 1-1                            [-1, 8, 96, 96]           216\n",
       "├─BatchNorm2d: 1-2                       [-1, 8, 96, 96]           16\n",
       "├─ReLU: 1-3                              [-1, 8, 96, 96]           --\n",
       "├─Conv2d: 1-4                            [-1, 16, 96, 96]          1,152\n",
       "├─BatchNorm2d: 1-5                       [-1, 16, 96, 96]          32\n",
       "├─ReLU: 1-6                              [-1, 16, 96, 96]          --\n",
       "├─Sequential: 1-7                        [-1, 16, 96, 96]          --\n",
       "|    └─res_block: 2-1                    [-1, 16, 96, 96]          --\n",
       "|    |    └─Conv2d: 3-1                  [-1, 16, 96, 96]          2,304\n",
       "|    |    └─BatchNorm2d: 3-2             [-1, 16, 96, 96]          32\n",
       "|    |    └─ReLU: 3-3                    [-1, 16, 96, 96]          --\n",
       "|    |    └─Conv2d: 3-4                  [-1, 16, 96, 96]          2,304\n",
       "|    |    └─BatchNorm2d: 3-5             [-1, 16, 96, 96]          32\n",
       "|    |    └─ReLU: 3-6                    [-1, 16, 96, 96]          --\n",
       "|    └─res_block: 2-2                    [-1, 16, 96, 96]          --\n",
       "|    |    └─Conv2d: 3-7                  [-1, 16, 96, 96]          2,304\n",
       "|    |    └─BatchNorm2d: 3-8             [-1, 16, 96, 96]          32\n",
       "|    |    └─ReLU: 3-9                    [-1, 16, 96, 96]          --\n",
       "|    |    └─Conv2d: 3-10                 [-1, 16, 96, 96]          2,304\n",
       "|    |    └─BatchNorm2d: 3-11            [-1, 16, 96, 96]          32\n",
       "|    |    └─ReLU: 3-12                   [-1, 16, 96, 96]          --\n",
       "|    └─res_block: 2-3                    [-1, 16, 96, 96]          --\n",
       "|    |    └─Conv2d: 3-13                 [-1, 16, 96, 96]          2,304\n",
       "|    |    └─BatchNorm2d: 3-14            [-1, 16, 96, 96]          32\n",
       "|    |    └─ReLU: 3-15                   [-1, 16, 96, 96]          --\n",
       "|    |    └─Conv2d: 3-16                 [-1, 16, 96, 96]          2,304\n",
       "|    |    └─BatchNorm2d: 3-17            [-1, 16, 96, 96]          32\n",
       "|    |    └─ReLU: 3-18                   [-1, 16, 96, 96]          --\n",
       "|    └─res_block: 2-4                    [-1, 16, 96, 96]          --\n",
       "|    |    └─Conv2d: 3-19                 [-1, 16, 96, 96]          2,304\n",
       "|    |    └─BatchNorm2d: 3-20            [-1, 16, 96, 96]          32\n",
       "|    |    └─ReLU: 3-21                   [-1, 16, 96, 96]          --\n",
       "|    |    └─Conv2d: 3-22                 [-1, 16, 96, 96]          2,304\n",
       "|    |    └─BatchNorm2d: 3-23            [-1, 16, 96, 96]          32\n",
       "|    |    └─ReLU: 3-24                   [-1, 16, 96, 96]          --\n",
       "|    └─res_block: 2-5                    [-1, 16, 96, 96]          --\n",
       "|    |    └─Conv2d: 3-25                 [-1, 16, 96, 96]          2,304\n",
       "|    |    └─BatchNorm2d: 3-26            [-1, 16, 96, 96]          32\n",
       "|    |    └─ReLU: 3-27                   [-1, 16, 96, 96]          --\n",
       "|    |    └─Conv2d: 3-28                 [-1, 16, 96, 96]          2,304\n",
       "|    |    └─BatchNorm2d: 3-29            [-1, 16, 96, 96]          32\n",
       "|    |    └─ReLU: 3-30                   [-1, 16, 96, 96]          --\n",
       "|    └─res_block: 2-6                    [-1, 16, 96, 96]          --\n",
       "|    |    └─Conv2d: 3-31                 [-1, 16, 96, 96]          2,304\n",
       "|    |    └─BatchNorm2d: 3-32            [-1, 16, 96, 96]          32\n",
       "|    |    └─ReLU: 3-33                   [-1, 16, 96, 96]          --\n",
       "|    |    └─Conv2d: 3-34                 [-1, 16, 96, 96]          2,304\n",
       "|    |    └─BatchNorm2d: 3-35            [-1, 16, 96, 96]          32\n",
       "|    |    └─ReLU: 3-36                   [-1, 16, 96, 96]          --\n",
       "|    └─res_block: 2-7                    [-1, 16, 96, 96]          --\n",
       "|    |    └─Conv2d: 3-37                 [-1, 16, 96, 96]          2,304\n",
       "|    |    └─BatchNorm2d: 3-38            [-1, 16, 96, 96]          32\n",
       "|    |    └─ReLU: 3-39                   [-1, 16, 96, 96]          --\n",
       "|    |    └─Conv2d: 3-40                 [-1, 16, 96, 96]          2,304\n",
       "|    |    └─BatchNorm2d: 3-41            [-1, 16, 96, 96]          32\n",
       "|    |    └─ReLU: 3-42                   [-1, 16, 96, 96]          --\n",
       "|    └─res_block: 2-8                    [-1, 16, 96, 96]          --\n",
       "|    |    └─Conv2d: 3-43                 [-1, 16, 96, 96]          2,304\n",
       "|    |    └─BatchNorm2d: 3-44            [-1, 16, 96, 96]          32\n",
       "|    |    └─ReLU: 3-45                   [-1, 16, 96, 96]          --\n",
       "|    |    └─Conv2d: 3-46                 [-1, 16, 96, 96]          2,304\n",
       "|    |    └─BatchNorm2d: 3-47            [-1, 16, 96, 96]          32\n",
       "|    |    └─ReLU: 3-48                   [-1, 16, 96, 96]          --\n",
       "├─Sequential: 1-8                        [-1, 32, 48, 48]          --\n",
       "|    └─res_block: 2-9                    [-1, 32, 48, 48]          --\n",
       "|    |    └─Conv2d: 3-49                 [-1, 32, 48, 48]          4,608\n",
       "|    |    └─BatchNorm2d: 3-50            [-1, 32, 48, 48]          64\n",
       "|    |    └─ReLU: 3-51                   [-1, 32, 48, 48]          --\n",
       "|    |    └─Conv2d: 3-52                 [-1, 32, 48, 48]          9,216\n",
       "|    |    └─BatchNorm2d: 3-53            [-1, 32, 48, 48]          64\n",
       "|    |    └─Sequential: 3-54             [-1, 32, 48, 48]          4,672\n",
       "|    |    └─ReLU: 3-55                   [-1, 32, 48, 48]          --\n",
       "|    └─res_block: 2-10                   [-1, 32, 48, 48]          --\n",
       "|    |    └─Conv2d: 3-56                 [-1, 32, 48, 48]          9,216\n",
       "|    |    └─BatchNorm2d: 3-57            [-1, 32, 48, 48]          64\n",
       "|    |    └─ReLU: 3-58                   [-1, 32, 48, 48]          --\n",
       "|    |    └─Conv2d: 3-59                 [-1, 32, 48, 48]          9,216\n",
       "|    |    └─BatchNorm2d: 3-60            [-1, 32, 48, 48]          64\n",
       "|    |    └─ReLU: 3-61                   [-1, 32, 48, 48]          --\n",
       "|    └─res_block: 2-11                   [-1, 32, 48, 48]          --\n",
       "|    |    └─Conv2d: 3-62                 [-1, 32, 48, 48]          9,216\n",
       "|    |    └─BatchNorm2d: 3-63            [-1, 32, 48, 48]          64\n",
       "|    |    └─ReLU: 3-64                   [-1, 32, 48, 48]          --\n",
       "|    |    └─Conv2d: 3-65                 [-1, 32, 48, 48]          9,216\n",
       "|    |    └─BatchNorm2d: 3-66            [-1, 32, 48, 48]          64\n",
       "|    |    └─ReLU: 3-67                   [-1, 32, 48, 48]          --\n",
       "|    └─res_block: 2-12                   [-1, 32, 48, 48]          --\n",
       "|    |    └─Conv2d: 3-68                 [-1, 32, 48, 48]          9,216\n",
       "|    |    └─BatchNorm2d: 3-69            [-1, 32, 48, 48]          64\n",
       "|    |    └─ReLU: 3-70                   [-1, 32, 48, 48]          --\n",
       "|    |    └─Conv2d: 3-71                 [-1, 32, 48, 48]          9,216\n",
       "|    |    └─BatchNorm2d: 3-72            [-1, 32, 48, 48]          64\n",
       "|    |    └─ReLU: 3-73                   [-1, 32, 48, 48]          --\n",
       "|    └─res_block: 2-13                   [-1, 32, 48, 48]          --\n",
       "|    |    └─Conv2d: 3-74                 [-1, 32, 48, 48]          9,216\n",
       "|    |    └─BatchNorm2d: 3-75            [-1, 32, 48, 48]          64\n",
       "|    |    └─ReLU: 3-76                   [-1, 32, 48, 48]          --\n",
       "|    |    └─Conv2d: 3-77                 [-1, 32, 48, 48]          9,216\n",
       "|    |    └─BatchNorm2d: 3-78            [-1, 32, 48, 48]          64\n",
       "|    |    └─ReLU: 3-79                   [-1, 32, 48, 48]          --\n",
       "|    └─res_block: 2-14                   [-1, 32, 48, 48]          --\n",
       "|    |    └─Conv2d: 3-80                 [-1, 32, 48, 48]          9,216\n",
       "|    |    └─BatchNorm2d: 3-81            [-1, 32, 48, 48]          64\n",
       "|    |    └─ReLU: 3-82                   [-1, 32, 48, 48]          --\n",
       "|    |    └─Conv2d: 3-83                 [-1, 32, 48, 48]          9,216\n",
       "|    |    └─BatchNorm2d: 3-84            [-1, 32, 48, 48]          64\n",
       "|    |    └─ReLU: 3-85                   [-1, 32, 48, 48]          --\n",
       "|    └─res_block: 2-15                   [-1, 32, 48, 48]          --\n",
       "|    |    └─Conv2d: 3-86                 [-1, 32, 48, 48]          9,216\n",
       "|    |    └─BatchNorm2d: 3-87            [-1, 32, 48, 48]          64\n",
       "|    |    └─ReLU: 3-88                   [-1, 32, 48, 48]          --\n",
       "|    |    └─Conv2d: 3-89                 [-1, 32, 48, 48]          9,216\n",
       "|    |    └─BatchNorm2d: 3-90            [-1, 32, 48, 48]          64\n",
       "|    |    └─ReLU: 3-91                   [-1, 32, 48, 48]          --\n",
       "|    └─res_block: 2-16                   [-1, 32, 48, 48]          --\n",
       "|    |    └─Conv2d: 3-92                 [-1, 32, 48, 48]          9,216\n",
       "|    |    └─BatchNorm2d: 3-93            [-1, 32, 48, 48]          64\n",
       "|    |    └─ReLU: 3-94                   [-1, 32, 48, 48]          --\n",
       "|    |    └─Conv2d: 3-95                 [-1, 32, 48, 48]          9,216\n",
       "|    |    └─BatchNorm2d: 3-96            [-1, 32, 48, 48]          64\n",
       "|    |    └─ReLU: 3-97                   [-1, 32, 48, 48]          --\n",
       "|    └─res_block: 2-17                   [-1, 32, 48, 48]          --\n",
       "|    |    └─Conv2d: 3-98                 [-1, 32, 48, 48]          9,216\n",
       "|    |    └─BatchNorm2d: 3-99            [-1, 32, 48, 48]          64\n",
       "|    |    └─ReLU: 3-100                  [-1, 32, 48, 48]          --\n",
       "|    |    └─Conv2d: 3-101                [-1, 32, 48, 48]          9,216\n",
       "|    |    └─BatchNorm2d: 3-102           [-1, 32, 48, 48]          64\n",
       "|    |    └─ReLU: 3-103                  [-1, 32, 48, 48]          --\n",
       "|    └─res_block: 2-18                   [-1, 32, 48, 48]          --\n",
       "|    |    └─Conv2d: 3-104                [-1, 32, 48, 48]          9,216\n",
       "|    |    └─BatchNorm2d: 3-105           [-1, 32, 48, 48]          64\n",
       "|    |    └─ReLU: 3-106                  [-1, 32, 48, 48]          --\n",
       "|    |    └─Conv2d: 3-107                [-1, 32, 48, 48]          9,216\n",
       "|    |    └─BatchNorm2d: 3-108           [-1, 32, 48, 48]          64\n",
       "|    |    └─ReLU: 3-109                  [-1, 32, 48, 48]          --\n",
       "|    └─res_block: 2-19                   [-1, 32, 48, 48]          --\n",
       "|    |    └─Conv2d: 3-110                [-1, 32, 48, 48]          9,216\n",
       "|    |    └─BatchNorm2d: 3-111           [-1, 32, 48, 48]          64\n",
       "|    |    └─ReLU: 3-112                  [-1, 32, 48, 48]          --\n",
       "|    |    └─Conv2d: 3-113                [-1, 32, 48, 48]          9,216\n",
       "|    |    └─BatchNorm2d: 3-114           [-1, 32, 48, 48]          64\n",
       "|    |    └─ReLU: 3-115                  [-1, 32, 48, 48]          --\n",
       "|    └─res_block: 2-20                   [-1, 32, 48, 48]          --\n",
       "|    |    └─Conv2d: 3-116                [-1, 32, 48, 48]          9,216\n",
       "|    |    └─BatchNorm2d: 3-117           [-1, 32, 48, 48]          64\n",
       "|    |    └─ReLU: 3-118                  [-1, 32, 48, 48]          --\n",
       "|    |    └─Conv2d: 3-119                [-1, 32, 48, 48]          9,216\n",
       "|    |    └─BatchNorm2d: 3-120           [-1, 32, 48, 48]          64\n",
       "|    |    └─ReLU: 3-121                  [-1, 32, 48, 48]          --\n",
       "|    └─res_block: 2-21                   [-1, 32, 48, 48]          --\n",
       "|    |    └─Conv2d: 3-122                [-1, 32, 48, 48]          9,216\n",
       "|    |    └─BatchNorm2d: 3-123           [-1, 32, 48, 48]          64\n",
       "|    |    └─ReLU: 3-124                  [-1, 32, 48, 48]          --\n",
       "|    |    └─Conv2d: 3-125                [-1, 32, 48, 48]          9,216\n",
       "|    |    └─BatchNorm2d: 3-126           [-1, 32, 48, 48]          64\n",
       "|    |    └─ReLU: 3-127                  [-1, 32, 48, 48]          --\n",
       "|    └─res_block: 2-22                   [-1, 32, 48, 48]          --\n",
       "|    |    └─Conv2d: 3-128                [-1, 32, 48, 48]          9,216\n",
       "|    |    └─BatchNorm2d: 3-129           [-1, 32, 48, 48]          64\n",
       "|    |    └─ReLU: 3-130                  [-1, 32, 48, 48]          --\n",
       "|    |    └─Conv2d: 3-131                [-1, 32, 48, 48]          9,216\n",
       "|    |    └─BatchNorm2d: 3-132           [-1, 32, 48, 48]          64\n",
       "|    |    └─ReLU: 3-133                  [-1, 32, 48, 48]          --\n",
       "|    └─res_block: 2-23                   [-1, 32, 48, 48]          --\n",
       "|    |    └─Conv2d: 3-134                [-1, 32, 48, 48]          9,216\n",
       "|    |    └─BatchNorm2d: 3-135           [-1, 32, 48, 48]          64\n",
       "|    |    └─ReLU: 3-136                  [-1, 32, 48, 48]          --\n",
       "|    |    └─Conv2d: 3-137                [-1, 32, 48, 48]          9,216\n",
       "|    |    └─BatchNorm2d: 3-138           [-1, 32, 48, 48]          64\n",
       "|    |    └─ReLU: 3-139                  [-1, 32, 48, 48]          --\n",
       "|    └─res_block: 2-24                   [-1, 32, 48, 48]          --\n",
       "|    |    └─Conv2d: 3-140                [-1, 32, 48, 48]          9,216\n",
       "|    |    └─BatchNorm2d: 3-141           [-1, 32, 48, 48]          64\n",
       "|    |    └─ReLU: 3-142                  [-1, 32, 48, 48]          --\n",
       "|    |    └─Conv2d: 3-143                [-1, 32, 48, 48]          9,216\n",
       "|    |    └─BatchNorm2d: 3-144           [-1, 32, 48, 48]          64\n",
       "|    |    └─ReLU: 3-145                  [-1, 32, 48, 48]          --\n",
       "|    └─res_block: 2-25                   [-1, 32, 48, 48]          --\n",
       "|    |    └─Conv2d: 3-146                [-1, 32, 48, 48]          9,216\n",
       "|    |    └─BatchNorm2d: 3-147           [-1, 32, 48, 48]          64\n",
       "|    |    └─ReLU: 3-148                  [-1, 32, 48, 48]          --\n",
       "|    |    └─Conv2d: 3-149                [-1, 32, 48, 48]          9,216\n",
       "|    |    └─BatchNorm2d: 3-150           [-1, 32, 48, 48]          64\n",
       "|    |    └─ReLU: 3-151                  [-1, 32, 48, 48]          --\n",
       "|    └─res_block: 2-26                   [-1, 32, 48, 48]          --\n",
       "|    |    └─Conv2d: 3-152                [-1, 32, 48, 48]          9,216\n",
       "|    |    └─BatchNorm2d: 3-153           [-1, 32, 48, 48]          64\n",
       "|    |    └─ReLU: 3-154                  [-1, 32, 48, 48]          --\n",
       "|    |    └─Conv2d: 3-155                [-1, 32, 48, 48]          9,216\n",
       "|    |    └─BatchNorm2d: 3-156           [-1, 32, 48, 48]          64\n",
       "|    |    └─ReLU: 3-157                  [-1, 32, 48, 48]          --\n",
       "|    └─res_block: 2-27                   [-1, 32, 48, 48]          --\n",
       "|    |    └─Conv2d: 3-158                [-1, 32, 48, 48]          9,216\n",
       "|    |    └─BatchNorm2d: 3-159           [-1, 32, 48, 48]          64\n",
       "|    |    └─ReLU: 3-160                  [-1, 32, 48, 48]          --\n",
       "|    |    └─Conv2d: 3-161                [-1, 32, 48, 48]          9,216\n",
       "|    |    └─BatchNorm2d: 3-162           [-1, 32, 48, 48]          64\n",
       "|    |    └─ReLU: 3-163                  [-1, 32, 48, 48]          --\n",
       "|    └─res_block: 2-28                   [-1, 32, 48, 48]          --\n",
       "|    |    └─Conv2d: 3-164                [-1, 32, 48, 48]          9,216\n",
       "|    |    └─BatchNorm2d: 3-165           [-1, 32, 48, 48]          64\n",
       "|    |    └─ReLU: 3-166                  [-1, 32, 48, 48]          --\n",
       "|    |    └─Conv2d: 3-167                [-1, 32, 48, 48]          9,216\n",
       "|    |    └─BatchNorm2d: 3-168           [-1, 32, 48, 48]          64\n",
       "|    |    └─ReLU: 3-169                  [-1, 32, 48, 48]          --\n",
       "|    └─res_block: 2-29                   [-1, 32, 48, 48]          --\n",
       "|    |    └─Conv2d: 3-170                [-1, 32, 48, 48]          9,216\n",
       "|    |    └─BatchNorm2d: 3-171           [-1, 32, 48, 48]          64\n",
       "|    |    └─ReLU: 3-172                  [-1, 32, 48, 48]          --\n",
       "|    |    └─Conv2d: 3-173                [-1, 32, 48, 48]          9,216\n",
       "|    |    └─BatchNorm2d: 3-174           [-1, 32, 48, 48]          64\n",
       "|    |    └─ReLU: 3-175                  [-1, 32, 48, 48]          --\n",
       "|    └─res_block: 2-30                   [-1, 32, 48, 48]          --\n",
       "|    |    └─Conv2d: 3-176                [-1, 32, 48, 48]          9,216\n",
       "|    |    └─BatchNorm2d: 3-177           [-1, 32, 48, 48]          64\n",
       "|    |    └─ReLU: 3-178                  [-1, 32, 48, 48]          --\n",
       "|    |    └─Conv2d: 3-179                [-1, 32, 48, 48]          9,216\n",
       "|    |    └─BatchNorm2d: 3-180           [-1, 32, 48, 48]          64\n",
       "|    |    └─ReLU: 3-181                  [-1, 32, 48, 48]          --\n",
       "|    └─res_block: 2-31                   [-1, 32, 48, 48]          --\n",
       "|    |    └─Conv2d: 3-182                [-1, 32, 48, 48]          9,216\n",
       "|    |    └─BatchNorm2d: 3-183           [-1, 32, 48, 48]          64\n",
       "|    |    └─ReLU: 3-184                  [-1, 32, 48, 48]          --\n",
       "|    |    └─Conv2d: 3-185                [-1, 32, 48, 48]          9,216\n",
       "|    |    └─BatchNorm2d: 3-186           [-1, 32, 48, 48]          64\n",
       "|    |    └─ReLU: 3-187                  [-1, 32, 48, 48]          --\n",
       "|    └─res_block: 2-32                   [-1, 32, 48, 48]          --\n",
       "|    |    └─Conv2d: 3-188                [-1, 32, 48, 48]          9,216\n",
       "|    |    └─BatchNorm2d: 3-189           [-1, 32, 48, 48]          64\n",
       "|    |    └─ReLU: 3-190                  [-1, 32, 48, 48]          --\n",
       "|    |    └─Conv2d: 3-191                [-1, 32, 48, 48]          9,216\n",
       "|    |    └─BatchNorm2d: 3-192           [-1, 32, 48, 48]          64\n",
       "|    |    └─ReLU: 3-193                  [-1, 32, 48, 48]          --\n",
       "|    └─res_block: 2-33                   [-1, 32, 48, 48]          --\n",
       "|    |    └─Conv2d: 3-194                [-1, 32, 48, 48]          9,216\n",
       "|    |    └─BatchNorm2d: 3-195           [-1, 32, 48, 48]          64\n",
       "|    |    └─ReLU: 3-196                  [-1, 32, 48, 48]          --\n",
       "|    |    └─Conv2d: 3-197                [-1, 32, 48, 48]          9,216\n",
       "|    |    └─BatchNorm2d: 3-198           [-1, 32, 48, 48]          64\n",
       "|    |    └─ReLU: 3-199                  [-1, 32, 48, 48]          --\n",
       "|    └─res_block: 2-34                   [-1, 32, 48, 48]          --\n",
       "|    |    └─Conv2d: 3-200                [-1, 32, 48, 48]          9,216\n",
       "|    |    └─BatchNorm2d: 3-201           [-1, 32, 48, 48]          64\n",
       "|    |    └─ReLU: 3-202                  [-1, 32, 48, 48]          --\n",
       "|    |    └─Conv2d: 3-203                [-1, 32, 48, 48]          9,216\n",
       "|    |    └─BatchNorm2d: 3-204           [-1, 32, 48, 48]          64\n",
       "|    |    └─ReLU: 3-205                  [-1, 32, 48, 48]          --\n",
       "|    └─res_block: 2-35                   [-1, 32, 48, 48]          --\n",
       "|    |    └─Conv2d: 3-206                [-1, 32, 48, 48]          9,216\n",
       "|    |    └─BatchNorm2d: 3-207           [-1, 32, 48, 48]          64\n",
       "|    |    └─ReLU: 3-208                  [-1, 32, 48, 48]          --\n",
       "|    |    └─Conv2d: 3-209                [-1, 32, 48, 48]          9,216\n",
       "|    |    └─BatchNorm2d: 3-210           [-1, 32, 48, 48]          64\n",
       "|    |    └─ReLU: 3-211                  [-1, 32, 48, 48]          --\n",
       "|    └─res_block: 2-36                   [-1, 32, 48, 48]          --\n",
       "|    |    └─Conv2d: 3-212                [-1, 32, 48, 48]          9,216\n",
       "|    |    └─BatchNorm2d: 3-213           [-1, 32, 48, 48]          64\n",
       "|    |    └─ReLU: 3-214                  [-1, 32, 48, 48]          --\n",
       "|    |    └─Conv2d: 3-215                [-1, 32, 48, 48]          9,216\n",
       "|    |    └─BatchNorm2d: 3-216           [-1, 32, 48, 48]          64\n",
       "|    |    └─ReLU: 3-217                  [-1, 32, 48, 48]          --\n",
       "|    └─res_block: 2-37                   [-1, 32, 48, 48]          --\n",
       "|    |    └─Conv2d: 3-218                [-1, 32, 48, 48]          9,216\n",
       "|    |    └─BatchNorm2d: 3-219           [-1, 32, 48, 48]          64\n",
       "|    |    └─ReLU: 3-220                  [-1, 32, 48, 48]          --\n",
       "|    |    └─Conv2d: 3-221                [-1, 32, 48, 48]          9,216\n",
       "|    |    └─BatchNorm2d: 3-222           [-1, 32, 48, 48]          64\n",
       "|    |    └─ReLU: 3-223                  [-1, 32, 48, 48]          --\n",
       "|    └─res_block: 2-38                   [-1, 32, 48, 48]          --\n",
       "|    |    └─Conv2d: 3-224                [-1, 32, 48, 48]          9,216\n",
       "|    |    └─BatchNorm2d: 3-225           [-1, 32, 48, 48]          64\n",
       "|    |    └─ReLU: 3-226                  [-1, 32, 48, 48]          --\n",
       "|    |    └─Conv2d: 3-227                [-1, 32, 48, 48]          9,216\n",
       "|    |    └─BatchNorm2d: 3-228           [-1, 32, 48, 48]          64\n",
       "|    |    └─ReLU: 3-229                  [-1, 32, 48, 48]          --\n",
       "|    └─res_block: 2-39                   [-1, 32, 48, 48]          --\n",
       "|    |    └─Conv2d: 3-230                [-1, 32, 48, 48]          9,216\n",
       "|    |    └─BatchNorm2d: 3-231           [-1, 32, 48, 48]          64\n",
       "|    |    └─ReLU: 3-232                  [-1, 32, 48, 48]          --\n",
       "|    |    └─Conv2d: 3-233                [-1, 32, 48, 48]          9,216\n",
       "|    |    └─BatchNorm2d: 3-234           [-1, 32, 48, 48]          64\n",
       "|    |    └─ReLU: 3-235                  [-1, 32, 48, 48]          --\n",
       "|    └─res_block: 2-40                   [-1, 32, 48, 48]          --\n",
       "|    |    └─Conv2d: 3-236                [-1, 32, 48, 48]          9,216\n",
       "|    |    └─BatchNorm2d: 3-237           [-1, 32, 48, 48]          64\n",
       "|    |    └─ReLU: 3-238                  [-1, 32, 48, 48]          --\n",
       "|    |    └─Conv2d: 3-239                [-1, 32, 48, 48]          9,216\n",
       "|    |    └─BatchNorm2d: 3-240           [-1, 32, 48, 48]          64\n",
       "|    |    └─ReLU: 3-241                  [-1, 32, 48, 48]          --\n",
       "|    └─res_block: 2-41                   [-1, 32, 48, 48]          --\n",
       "|    |    └─Conv2d: 3-242                [-1, 32, 48, 48]          9,216\n",
       "|    |    └─BatchNorm2d: 3-243           [-1, 32, 48, 48]          64\n",
       "|    |    └─ReLU: 3-244                  [-1, 32, 48, 48]          --\n",
       "|    |    └─Conv2d: 3-245                [-1, 32, 48, 48]          9,216\n",
       "|    |    └─BatchNorm2d: 3-246           [-1, 32, 48, 48]          64\n",
       "|    |    └─ReLU: 3-247                  [-1, 32, 48, 48]          --\n",
       "|    └─res_block: 2-42                   [-1, 32, 48, 48]          --\n",
       "|    |    └─Conv2d: 3-248                [-1, 32, 48, 48]          9,216\n",
       "|    |    └─BatchNorm2d: 3-249           [-1, 32, 48, 48]          64\n",
       "|    |    └─ReLU: 3-250                  [-1, 32, 48, 48]          --\n",
       "|    |    └─Conv2d: 3-251                [-1, 32, 48, 48]          9,216\n",
       "|    |    └─BatchNorm2d: 3-252           [-1, 32, 48, 48]          64\n",
       "|    |    └─ReLU: 3-253                  [-1, 32, 48, 48]          --\n",
       "|    └─res_block: 2-43                   [-1, 32, 48, 48]          --\n",
       "|    |    └─Conv2d: 3-254                [-1, 32, 48, 48]          9,216\n",
       "|    |    └─BatchNorm2d: 3-255           [-1, 32, 48, 48]          64\n",
       "|    |    └─ReLU: 3-256                  [-1, 32, 48, 48]          --\n",
       "|    |    └─Conv2d: 3-257                [-1, 32, 48, 48]          9,216\n",
       "|    |    └─BatchNorm2d: 3-258           [-1, 32, 48, 48]          64\n",
       "|    |    └─ReLU: 3-259                  [-1, 32, 48, 48]          --\n",
       "|    └─res_block: 2-44                   [-1, 32, 48, 48]          --\n",
       "|    |    └─Conv2d: 3-260                [-1, 32, 48, 48]          9,216\n",
       "|    |    └─BatchNorm2d: 3-261           [-1, 32, 48, 48]          64\n",
       "|    |    └─ReLU: 3-262                  [-1, 32, 48, 48]          --\n",
       "|    |    └─Conv2d: 3-263                [-1, 32, 48, 48]          9,216\n",
       "|    |    └─BatchNorm2d: 3-264           [-1, 32, 48, 48]          64\n",
       "|    |    └─ReLU: 3-265                  [-1, 32, 48, 48]          --\n",
       "├─Sequential: 1-9                        [-1, 64, 24, 24]          --\n",
       "|    └─res_block: 2-45                   [-1, 64, 24, 24]          --\n",
       "|    |    └─Conv2d: 3-266                [-1, 64, 24, 24]          18,432\n",
       "|    |    └─BatchNorm2d: 3-267           [-1, 64, 24, 24]          128\n",
       "|    |    └─ReLU: 3-268                  [-1, 64, 24, 24]          --\n",
       "|    |    └─Conv2d: 3-269                [-1, 64, 24, 24]          36,864\n",
       "|    |    └─BatchNorm2d: 3-270           [-1, 64, 24, 24]          128\n",
       "|    |    └─Sequential: 3-271            [-1, 64, 24, 24]          18,560\n",
       "|    |    └─ReLU: 3-272                  [-1, 64, 24, 24]          --\n",
       "|    └─res_block: 2-46                   [-1, 64, 24, 24]          --\n",
       "|    |    └─Conv2d: 3-273                [-1, 64, 24, 24]          36,864\n",
       "|    |    └─BatchNorm2d: 3-274           [-1, 64, 24, 24]          128\n",
       "|    |    └─ReLU: 3-275                  [-1, 64, 24, 24]          --\n",
       "|    |    └─Conv2d: 3-276                [-1, 64, 24, 24]          36,864\n",
       "|    |    └─BatchNorm2d: 3-277           [-1, 64, 24, 24]          128\n",
       "|    |    └─ReLU: 3-278                  [-1, 64, 24, 24]          --\n",
       "|    └─res_block: 2-47                   [-1, 64, 24, 24]          --\n",
       "|    |    └─Conv2d: 3-279                [-1, 64, 24, 24]          36,864\n",
       "|    |    └─BatchNorm2d: 3-280           [-1, 64, 24, 24]          128\n",
       "|    |    └─ReLU: 3-281                  [-1, 64, 24, 24]          --\n",
       "|    |    └─Conv2d: 3-282                [-1, 64, 24, 24]          36,864\n",
       "|    |    └─BatchNorm2d: 3-283           [-1, 64, 24, 24]          128\n",
       "|    |    └─ReLU: 3-284                  [-1, 64, 24, 24]          --\n",
       "|    └─res_block: 2-48                   [-1, 64, 24, 24]          --\n",
       "|    |    └─Conv2d: 3-285                [-1, 64, 24, 24]          36,864\n",
       "|    |    └─BatchNorm2d: 3-286           [-1, 64, 24, 24]          128\n",
       "|    |    └─ReLU: 3-287                  [-1, 64, 24, 24]          --\n",
       "|    |    └─Conv2d: 3-288                [-1, 64, 24, 24]          36,864\n",
       "|    |    └─BatchNorm2d: 3-289           [-1, 64, 24, 24]          128\n",
       "|    |    └─ReLU: 3-290                  [-1, 64, 24, 24]          --\n",
       "|    └─res_block: 2-49                   [-1, 64, 24, 24]          --\n",
       "|    |    └─Conv2d: 3-291                [-1, 64, 24, 24]          36,864\n",
       "|    |    └─BatchNorm2d: 3-292           [-1, 64, 24, 24]          128\n",
       "|    |    └─ReLU: 3-293                  [-1, 64, 24, 24]          --\n",
       "|    |    └─Conv2d: 3-294                [-1, 64, 24, 24]          36,864\n",
       "|    |    └─BatchNorm2d: 3-295           [-1, 64, 24, 24]          128\n",
       "|    |    └─ReLU: 3-296                  [-1, 64, 24, 24]          --\n",
       "|    └─res_block: 2-50                   [-1, 64, 24, 24]          --\n",
       "|    |    └─Conv2d: 3-297                [-1, 64, 24, 24]          36,864\n",
       "|    |    └─BatchNorm2d: 3-298           [-1, 64, 24, 24]          128\n",
       "|    |    └─ReLU: 3-299                  [-1, 64, 24, 24]          --\n",
       "|    |    └─Conv2d: 3-300                [-1, 64, 24, 24]          36,864\n",
       "|    |    └─BatchNorm2d: 3-301           [-1, 64, 24, 24]          128\n",
       "|    |    └─ReLU: 3-302                  [-1, 64, 24, 24]          --\n",
       "|    └─res_block: 2-51                   [-1, 64, 24, 24]          --\n",
       "|    |    └─Conv2d: 3-303                [-1, 64, 24, 24]          36,864\n",
       "|    |    └─BatchNorm2d: 3-304           [-1, 64, 24, 24]          128\n",
       "|    |    └─ReLU: 3-305                  [-1, 64, 24, 24]          --\n",
       "|    |    └─Conv2d: 3-306                [-1, 64, 24, 24]          36,864\n",
       "|    |    └─BatchNorm2d: 3-307           [-1, 64, 24, 24]          128\n",
       "|    |    └─ReLU: 3-308                  [-1, 64, 24, 24]          --\n",
       "|    └─res_block: 2-52                   [-1, 64, 24, 24]          --\n",
       "|    |    └─Conv2d: 3-309                [-1, 64, 24, 24]          36,864\n",
       "|    |    └─BatchNorm2d: 3-310           [-1, 64, 24, 24]          128\n",
       "|    |    └─ReLU: 3-311                  [-1, 64, 24, 24]          --\n",
       "|    |    └─Conv2d: 3-312                [-1, 64, 24, 24]          36,864\n",
       "|    |    └─BatchNorm2d: 3-313           [-1, 64, 24, 24]          128\n",
       "|    |    └─ReLU: 3-314                  [-1, 64, 24, 24]          --\n",
       "|    └─res_block: 2-53                   [-1, 64, 24, 24]          --\n",
       "|    |    └─Conv2d: 3-315                [-1, 64, 24, 24]          36,864\n",
       "|    |    └─BatchNorm2d: 3-316           [-1, 64, 24, 24]          128\n",
       "|    |    └─ReLU: 3-317                  [-1, 64, 24, 24]          --\n",
       "|    |    └─Conv2d: 3-318                [-1, 64, 24, 24]          36,864\n",
       "|    |    └─BatchNorm2d: 3-319           [-1, 64, 24, 24]          128\n",
       "|    |    └─ReLU: 3-320                  [-1, 64, 24, 24]          --\n",
       "|    └─res_block: 2-54                   [-1, 64, 24, 24]          --\n",
       "|    |    └─Conv2d: 3-321                [-1, 64, 24, 24]          36,864\n",
       "|    |    └─BatchNorm2d: 3-322           [-1, 64, 24, 24]          128\n",
       "|    |    └─ReLU: 3-323                  [-1, 64, 24, 24]          --\n",
       "|    |    └─Conv2d: 3-324                [-1, 64, 24, 24]          36,864\n",
       "|    |    └─BatchNorm2d: 3-325           [-1, 64, 24, 24]          128\n",
       "|    |    └─ReLU: 3-326                  [-1, 64, 24, 24]          --\n",
       "|    └─res_block: 2-55                   [-1, 64, 24, 24]          --\n",
       "|    |    └─Conv2d: 3-327                [-1, 64, 24, 24]          36,864\n",
       "|    |    └─BatchNorm2d: 3-328           [-1, 64, 24, 24]          128\n",
       "|    |    └─ReLU: 3-329                  [-1, 64, 24, 24]          --\n",
       "|    |    └─Conv2d: 3-330                [-1, 64, 24, 24]          36,864\n",
       "|    |    └─BatchNorm2d: 3-331           [-1, 64, 24, 24]          128\n",
       "|    |    └─ReLU: 3-332                  [-1, 64, 24, 24]          --\n",
       "|    └─res_block: 2-56                   [-1, 64, 24, 24]          --\n",
       "|    |    └─Conv2d: 3-333                [-1, 64, 24, 24]          36,864\n",
       "|    |    └─BatchNorm2d: 3-334           [-1, 64, 24, 24]          128\n",
       "|    |    └─ReLU: 3-335                  [-1, 64, 24, 24]          --\n",
       "|    |    └─Conv2d: 3-336                [-1, 64, 24, 24]          36,864\n",
       "|    |    └─BatchNorm2d: 3-337           [-1, 64, 24, 24]          128\n",
       "|    |    └─ReLU: 3-338                  [-1, 64, 24, 24]          --\n",
       "|    └─res_block: 2-57                   [-1, 64, 24, 24]          --\n",
       "|    |    └─Conv2d: 3-339                [-1, 64, 24, 24]          36,864\n",
       "|    |    └─BatchNorm2d: 3-340           [-1, 64, 24, 24]          128\n",
       "|    |    └─ReLU: 3-341                  [-1, 64, 24, 24]          --\n",
       "|    |    └─Conv2d: 3-342                [-1, 64, 24, 24]          36,864\n",
       "|    |    └─BatchNorm2d: 3-343           [-1, 64, 24, 24]          128\n",
       "|    |    └─ReLU: 3-344                  [-1, 64, 24, 24]          --\n",
       "|    └─res_block: 2-58                   [-1, 64, 24, 24]          --\n",
       "|    |    └─Conv2d: 3-345                [-1, 64, 24, 24]          36,864\n",
       "|    |    └─BatchNorm2d: 3-346           [-1, 64, 24, 24]          128\n",
       "|    |    └─ReLU: 3-347                  [-1, 64, 24, 24]          --\n",
       "|    |    └─Conv2d: 3-348                [-1, 64, 24, 24]          36,864\n",
       "|    |    └─BatchNorm2d: 3-349           [-1, 64, 24, 24]          128\n",
       "|    |    └─ReLU: 3-350                  [-1, 64, 24, 24]          --\n",
       "|    └─res_block: 2-59                   [-1, 64, 24, 24]          --\n",
       "|    |    └─Conv2d: 3-351                [-1, 64, 24, 24]          36,864\n",
       "|    |    └─BatchNorm2d: 3-352           [-1, 64, 24, 24]          128\n",
       "|    |    └─ReLU: 3-353                  [-1, 64, 24, 24]          --\n",
       "|    |    └─Conv2d: 3-354                [-1, 64, 24, 24]          36,864\n",
       "|    |    └─BatchNorm2d: 3-355           [-1, 64, 24, 24]          128\n",
       "|    |    └─ReLU: 3-356                  [-1, 64, 24, 24]          --\n",
       "|    └─res_block: 2-60                   [-1, 64, 24, 24]          --\n",
       "|    |    └─Conv2d: 3-357                [-1, 64, 24, 24]          36,864\n",
       "|    |    └─BatchNorm2d: 3-358           [-1, 64, 24, 24]          128\n",
       "|    |    └─ReLU: 3-359                  [-1, 64, 24, 24]          --\n",
       "|    |    └─Conv2d: 3-360                [-1, 64, 24, 24]          36,864\n",
       "|    |    └─BatchNorm2d: 3-361           [-1, 64, 24, 24]          128\n",
       "|    |    └─ReLU: 3-362                  [-1, 64, 24, 24]          --\n",
       "|    └─res_block: 2-61                   [-1, 64, 24, 24]          --\n",
       "|    |    └─Conv2d: 3-363                [-1, 64, 24, 24]          36,864\n",
       "|    |    └─BatchNorm2d: 3-364           [-1, 64, 24, 24]          128\n",
       "|    |    └─ReLU: 3-365                  [-1, 64, 24, 24]          --\n",
       "|    |    └─Conv2d: 3-366                [-1, 64, 24, 24]          36,864\n",
       "|    |    └─BatchNorm2d: 3-367           [-1, 64, 24, 24]          128\n",
       "|    |    └─ReLU: 3-368                  [-1, 64, 24, 24]          --\n",
       "|    └─res_block: 2-62                   [-1, 64, 24, 24]          --\n",
       "|    |    └─Conv2d: 3-369                [-1, 64, 24, 24]          36,864\n",
       "|    |    └─BatchNorm2d: 3-370           [-1, 64, 24, 24]          128\n",
       "|    |    └─ReLU: 3-371                  [-1, 64, 24, 24]          --\n",
       "|    |    └─Conv2d: 3-372                [-1, 64, 24, 24]          36,864\n",
       "|    |    └─BatchNorm2d: 3-373           [-1, 64, 24, 24]          128\n",
       "|    |    └─ReLU: 3-374                  [-1, 64, 24, 24]          --\n",
       "|    └─res_block: 2-63                   [-1, 64, 24, 24]          --\n",
       "|    |    └─Conv2d: 3-375                [-1, 64, 24, 24]          36,864\n",
       "|    |    └─BatchNorm2d: 3-376           [-1, 64, 24, 24]          128\n",
       "|    |    └─ReLU: 3-377                  [-1, 64, 24, 24]          --\n",
       "|    |    └─Conv2d: 3-378                [-1, 64, 24, 24]          36,864\n",
       "|    |    └─BatchNorm2d: 3-379           [-1, 64, 24, 24]          128\n",
       "|    |    └─ReLU: 3-380                  [-1, 64, 24, 24]          --\n",
       "|    └─res_block: 2-64                   [-1, 64, 24, 24]          --\n",
       "|    |    └─Conv2d: 3-381                [-1, 64, 24, 24]          36,864\n",
       "|    |    └─BatchNorm2d: 3-382           [-1, 64, 24, 24]          128\n",
       "|    |    └─ReLU: 3-383                  [-1, 64, 24, 24]          --\n",
       "|    |    └─Conv2d: 3-384                [-1, 64, 24, 24]          36,864\n",
       "|    |    └─BatchNorm2d: 3-385           [-1, 64, 24, 24]          128\n",
       "|    |    └─ReLU: 3-386                  [-1, 64, 24, 24]          --\n",
       "|    └─res_block: 2-65                   [-1, 64, 24, 24]          --\n",
       "|    |    └─Conv2d: 3-387                [-1, 64, 24, 24]          36,864\n",
       "|    |    └─BatchNorm2d: 3-388           [-1, 64, 24, 24]          128\n",
       "|    |    └─ReLU: 3-389                  [-1, 64, 24, 24]          --\n",
       "|    |    └─Conv2d: 3-390                [-1, 64, 24, 24]          36,864\n",
       "|    |    └─BatchNorm2d: 3-391           [-1, 64, 24, 24]          128\n",
       "|    |    └─ReLU: 3-392                  [-1, 64, 24, 24]          --\n",
       "|    └─res_block: 2-66                   [-1, 64, 24, 24]          --\n",
       "|    |    └─Conv2d: 3-393                [-1, 64, 24, 24]          36,864\n",
       "|    |    └─BatchNorm2d: 3-394           [-1, 64, 24, 24]          128\n",
       "|    |    └─ReLU: 3-395                  [-1, 64, 24, 24]          --\n",
       "|    |    └─Conv2d: 3-396                [-1, 64, 24, 24]          36,864\n",
       "|    |    └─BatchNorm2d: 3-397           [-1, 64, 24, 24]          128\n",
       "|    |    └─ReLU: 3-398                  [-1, 64, 24, 24]          --\n",
       "|    └─res_block: 2-67                   [-1, 64, 24, 24]          --\n",
       "|    |    └─Conv2d: 3-399                [-1, 64, 24, 24]          36,864\n",
       "|    |    └─BatchNorm2d: 3-400           [-1, 64, 24, 24]          128\n",
       "|    |    └─ReLU: 3-401                  [-1, 64, 24, 24]          --\n",
       "|    |    └─Conv2d: 3-402                [-1, 64, 24, 24]          36,864\n",
       "|    |    └─BatchNorm2d: 3-403           [-1, 64, 24, 24]          128\n",
       "|    |    └─ReLU: 3-404                  [-1, 64, 24, 24]          --\n",
       "|    └─res_block: 2-68                   [-1, 64, 24, 24]          --\n",
       "|    |    └─Conv2d: 3-405                [-1, 64, 24, 24]          36,864\n",
       "|    |    └─BatchNorm2d: 3-406           [-1, 64, 24, 24]          128\n",
       "|    |    └─ReLU: 3-407                  [-1, 64, 24, 24]          --\n",
       "|    |    └─Conv2d: 3-408                [-1, 64, 24, 24]          36,864\n",
       "|    |    └─BatchNorm2d: 3-409           [-1, 64, 24, 24]          128\n",
       "|    |    └─ReLU: 3-410                  [-1, 64, 24, 24]          --\n",
       "|    └─res_block: 2-69                   [-1, 64, 24, 24]          --\n",
       "|    |    └─Conv2d: 3-411                [-1, 64, 24, 24]          36,864\n",
       "|    |    └─BatchNorm2d: 3-412           [-1, 64, 24, 24]          128\n",
       "|    |    └─ReLU: 3-413                  [-1, 64, 24, 24]          --\n",
       "|    |    └─Conv2d: 3-414                [-1, 64, 24, 24]          36,864\n",
       "|    |    └─BatchNorm2d: 3-415           [-1, 64, 24, 24]          128\n",
       "|    |    └─ReLU: 3-416                  [-1, 64, 24, 24]          --\n",
       "|    └─res_block: 2-70                   [-1, 64, 24, 24]          --\n",
       "|    |    └─Conv2d: 3-417                [-1, 64, 24, 24]          36,864\n",
       "|    |    └─BatchNorm2d: 3-418           [-1, 64, 24, 24]          128\n",
       "|    |    └─ReLU: 3-419                  [-1, 64, 24, 24]          --\n",
       "|    |    └─Conv2d: 3-420                [-1, 64, 24, 24]          36,864\n",
       "|    |    └─BatchNorm2d: 3-421           [-1, 64, 24, 24]          128\n",
       "|    |    └─ReLU: 3-422                  [-1, 64, 24, 24]          --\n",
       "|    └─res_block: 2-71                   [-1, 64, 24, 24]          --\n",
       "|    |    └─Conv2d: 3-423                [-1, 64, 24, 24]          36,864\n",
       "|    |    └─BatchNorm2d: 3-424           [-1, 64, 24, 24]          128\n",
       "|    |    └─ReLU: 3-425                  [-1, 64, 24, 24]          --\n",
       "|    |    └─Conv2d: 3-426                [-1, 64, 24, 24]          36,864\n",
       "|    |    └─BatchNorm2d: 3-427           [-1, 64, 24, 24]          128\n",
       "|    |    └─ReLU: 3-428                  [-1, 64, 24, 24]          --\n",
       "|    └─res_block: 2-72                   [-1, 64, 24, 24]          --\n",
       "|    |    └─Conv2d: 3-429                [-1, 64, 24, 24]          36,864\n",
       "|    |    └─BatchNorm2d: 3-430           [-1, 64, 24, 24]          128\n",
       "|    |    └─ReLU: 3-431                  [-1, 64, 24, 24]          --\n",
       "|    |    └─Conv2d: 3-432                [-1, 64, 24, 24]          36,864\n",
       "|    |    └─BatchNorm2d: 3-433           [-1, 64, 24, 24]          128\n",
       "|    |    └─ReLU: 3-434                  [-1, 64, 24, 24]          --\n",
       "|    └─res_block: 2-73                   [-1, 64, 24, 24]          --\n",
       "|    |    └─Conv2d: 3-435                [-1, 64, 24, 24]          36,864\n",
       "|    |    └─BatchNorm2d: 3-436           [-1, 64, 24, 24]          128\n",
       "|    |    └─ReLU: 3-437                  [-1, 64, 24, 24]          --\n",
       "|    |    └─Conv2d: 3-438                [-1, 64, 24, 24]          36,864\n",
       "|    |    └─BatchNorm2d: 3-439           [-1, 64, 24, 24]          128\n",
       "|    |    └─ReLU: 3-440                  [-1, 64, 24, 24]          --\n",
       "|    └─res_block: 2-74                   [-1, 64, 24, 24]          --\n",
       "|    |    └─Conv2d: 3-441                [-1, 64, 24, 24]          36,864\n",
       "|    |    └─BatchNorm2d: 3-442           [-1, 64, 24, 24]          128\n",
       "|    |    └─ReLU: 3-443                  [-1, 64, 24, 24]          --\n",
       "|    |    └─Conv2d: 3-444                [-1, 64, 24, 24]          36,864\n",
       "|    |    └─BatchNorm2d: 3-445           [-1, 64, 24, 24]          128\n",
       "|    |    └─ReLU: 3-446                  [-1, 64, 24, 24]          --\n",
       "|    └─res_block: 2-75                   [-1, 64, 24, 24]          --\n",
       "|    |    └─Conv2d: 3-447                [-1, 64, 24, 24]          36,864\n",
       "|    |    └─BatchNorm2d: 3-448           [-1, 64, 24, 24]          128\n",
       "|    |    └─ReLU: 3-449                  [-1, 64, 24, 24]          --\n",
       "|    |    └─Conv2d: 3-450                [-1, 64, 24, 24]          36,864\n",
       "|    |    └─BatchNorm2d: 3-451           [-1, 64, 24, 24]          128\n",
       "|    |    └─ReLU: 3-452                  [-1, 64, 24, 24]          --\n",
       "|    └─res_block: 2-76                   [-1, 64, 24, 24]          --\n",
       "|    |    └─Conv2d: 3-453                [-1, 64, 24, 24]          36,864\n",
       "|    |    └─BatchNorm2d: 3-454           [-1, 64, 24, 24]          128\n",
       "|    |    └─ReLU: 3-455                  [-1, 64, 24, 24]          --\n",
       "|    |    └─Conv2d: 3-456                [-1, 64, 24, 24]          36,864\n",
       "|    |    └─BatchNorm2d: 3-457           [-1, 64, 24, 24]          128\n",
       "|    |    └─ReLU: 3-458                  [-1, 64, 24, 24]          --\n",
       "|    └─res_block: 2-77                   [-1, 64, 24, 24]          --\n",
       "|    |    └─Conv2d: 3-459                [-1, 64, 24, 24]          36,864\n",
       "|    |    └─BatchNorm2d: 3-460           [-1, 64, 24, 24]          128\n",
       "|    |    └─ReLU: 3-461                  [-1, 64, 24, 24]          --\n",
       "|    |    └─Conv2d: 3-462                [-1, 64, 24, 24]          36,864\n",
       "|    |    └─BatchNorm2d: 3-463           [-1, 64, 24, 24]          128\n",
       "|    |    └─ReLU: 3-464                  [-1, 64, 24, 24]          --\n",
       "|    └─res_block: 2-78                   [-1, 64, 24, 24]          --\n",
       "|    |    └─Conv2d: 3-465                [-1, 64, 24, 24]          36,864\n",
       "|    |    └─BatchNorm2d: 3-466           [-1, 64, 24, 24]          128\n",
       "|    |    └─ReLU: 3-467                  [-1, 64, 24, 24]          --\n",
       "|    |    └─Conv2d: 3-468                [-1, 64, 24, 24]          36,864\n",
       "|    |    └─BatchNorm2d: 3-469           [-1, 64, 24, 24]          128\n",
       "|    |    └─ReLU: 3-470                  [-1, 64, 24, 24]          --\n",
       "|    └─res_block: 2-79                   [-1, 64, 24, 24]          --\n",
       "|    |    └─Conv2d: 3-471                [-1, 64, 24, 24]          36,864\n",
       "|    |    └─BatchNorm2d: 3-472           [-1, 64, 24, 24]          128\n",
       "|    |    └─ReLU: 3-473                  [-1, 64, 24, 24]          --\n",
       "|    |    └─Conv2d: 3-474                [-1, 64, 24, 24]          36,864\n",
       "|    |    └─BatchNorm2d: 3-475           [-1, 64, 24, 24]          128\n",
       "|    |    └─ReLU: 3-476                  [-1, 64, 24, 24]          --\n",
       "|    └─res_block: 2-80                   [-1, 64, 24, 24]          --\n",
       "|    |    └─Conv2d: 3-477                [-1, 64, 24, 24]          36,864\n",
       "|    |    └─BatchNorm2d: 3-478           [-1, 64, 24, 24]          128\n",
       "|    |    └─ReLU: 3-479                  [-1, 64, 24, 24]          --\n",
       "|    |    └─Conv2d: 3-480                [-1, 64, 24, 24]          36,864\n",
       "|    |    └─BatchNorm2d: 3-481           [-1, 64, 24, 24]          128\n",
       "|    |    └─ReLU: 3-482                  [-1, 64, 24, 24]          --\n",
       "|    └─res_block: 2-81                   [-1, 64, 24, 24]          --\n",
       "|    |    └─Conv2d: 3-483                [-1, 64, 24, 24]          36,864\n",
       "|    |    └─BatchNorm2d: 3-484           [-1, 64, 24, 24]          128\n",
       "|    |    └─ReLU: 3-485                  [-1, 64, 24, 24]          --\n",
       "|    |    └─Conv2d: 3-486                [-1, 64, 24, 24]          36,864\n",
       "|    |    └─BatchNorm2d: 3-487           [-1, 64, 24, 24]          128\n",
       "|    |    └─ReLU: 3-488                  [-1, 64, 24, 24]          --\n",
       "|    └─res_block: 2-82                   [-1, 64, 24, 24]          --\n",
       "|    |    └─Conv2d: 3-489                [-1, 64, 24, 24]          36,864\n",
       "|    |    └─BatchNorm2d: 3-490           [-1, 64, 24, 24]          128\n",
       "|    |    └─ReLU: 3-491                  [-1, 64, 24, 24]          --\n",
       "|    |    └─Conv2d: 3-492                [-1, 64, 24, 24]          36,864\n",
       "|    |    └─BatchNorm2d: 3-493           [-1, 64, 24, 24]          128\n",
       "|    |    └─ReLU: 3-494                  [-1, 64, 24, 24]          --\n",
       "|    └─res_block: 2-83                   [-1, 64, 24, 24]          --\n",
       "|    |    └─Conv2d: 3-495                [-1, 64, 24, 24]          36,864\n",
       "|    |    └─BatchNorm2d: 3-496           [-1, 64, 24, 24]          128\n",
       "|    |    └─ReLU: 3-497                  [-1, 64, 24, 24]          --\n",
       "|    |    └─Conv2d: 3-498                [-1, 64, 24, 24]          36,864\n",
       "|    |    └─BatchNorm2d: 3-499           [-1, 64, 24, 24]          128\n",
       "|    |    └─ReLU: 3-500                  [-1, 64, 24, 24]          --\n",
       "|    └─res_block: 2-84                   [-1, 64, 24, 24]          --\n",
       "|    |    └─Conv2d: 3-501                [-1, 64, 24, 24]          36,864\n",
       "|    |    └─BatchNorm2d: 3-502           [-1, 64, 24, 24]          128\n",
       "|    |    └─ReLU: 3-503                  [-1, 64, 24, 24]          --\n",
       "|    |    └─Conv2d: 3-504                [-1, 64, 24, 24]          36,864\n",
       "|    |    └─BatchNorm2d: 3-505           [-1, 64, 24, 24]          128\n",
       "|    |    └─ReLU: 3-506                  [-1, 64, 24, 24]          --\n",
       "|    └─res_block: 2-85                   [-1, 64, 24, 24]          --\n",
       "|    |    └─Conv2d: 3-507                [-1, 64, 24, 24]          36,864\n",
       "|    |    └─BatchNorm2d: 3-508           [-1, 64, 24, 24]          128\n",
       "|    |    └─ReLU: 3-509                  [-1, 64, 24, 24]          --\n",
       "|    |    └─Conv2d: 3-510                [-1, 64, 24, 24]          36,864\n",
       "|    |    └─BatchNorm2d: 3-511           [-1, 64, 24, 24]          128\n",
       "|    |    └─ReLU: 3-512                  [-1, 64, 24, 24]          --\n",
       "|    └─res_block: 2-86                   [-1, 64, 24, 24]          --\n",
       "|    |    └─Conv2d: 3-513                [-1, 64, 24, 24]          36,864\n",
       "|    |    └─BatchNorm2d: 3-514           [-1, 64, 24, 24]          128\n",
       "|    |    └─ReLU: 3-515                  [-1, 64, 24, 24]          --\n",
       "|    |    └─Conv2d: 3-516                [-1, 64, 24, 24]          36,864\n",
       "|    |    └─BatchNorm2d: 3-517           [-1, 64, 24, 24]          128\n",
       "|    |    └─ReLU: 3-518                  [-1, 64, 24, 24]          --\n",
       "|    └─res_block: 2-87                   [-1, 64, 24, 24]          --\n",
       "|    |    └─Conv2d: 3-519                [-1, 64, 24, 24]          36,864\n",
       "|    |    └─BatchNorm2d: 3-520           [-1, 64, 24, 24]          128\n",
       "|    |    └─ReLU: 3-521                  [-1, 64, 24, 24]          --\n",
       "|    |    └─Conv2d: 3-522                [-1, 64, 24, 24]          36,864\n",
       "|    |    └─BatchNorm2d: 3-523           [-1, 64, 24, 24]          128\n",
       "|    |    └─ReLU: 3-524                  [-1, 64, 24, 24]          --\n",
       "|    └─res_block: 2-88                   [-1, 64, 24, 24]          --\n",
       "|    |    └─Conv2d: 3-525                [-1, 64, 24, 24]          36,864\n",
       "|    |    └─BatchNorm2d: 3-526           [-1, 64, 24, 24]          128\n",
       "|    |    └─ReLU: 3-527                  [-1, 64, 24, 24]          --\n",
       "|    |    └─Conv2d: 3-528                [-1, 64, 24, 24]          36,864\n",
       "|    |    └─BatchNorm2d: 3-529           [-1, 64, 24, 24]          128\n",
       "|    |    └─ReLU: 3-530                  [-1, 64, 24, 24]          --\n",
       "|    └─res_block: 2-89                   [-1, 64, 24, 24]          --\n",
       "|    |    └─Conv2d: 3-531                [-1, 64, 24, 24]          36,864\n",
       "|    |    └─BatchNorm2d: 3-532           [-1, 64, 24, 24]          128\n",
       "|    |    └─ReLU: 3-533                  [-1, 64, 24, 24]          --\n",
       "|    |    └─Conv2d: 3-534                [-1, 64, 24, 24]          36,864\n",
       "|    |    └─BatchNorm2d: 3-535           [-1, 64, 24, 24]          128\n",
       "|    |    └─ReLU: 3-536                  [-1, 64, 24, 24]          --\n",
       "|    └─res_block: 2-90                   [-1, 64, 24, 24]          --\n",
       "|    |    └─Conv2d: 3-537                [-1, 64, 24, 24]          36,864\n",
       "|    |    └─BatchNorm2d: 3-538           [-1, 64, 24, 24]          128\n",
       "|    |    └─ReLU: 3-539                  [-1, 64, 24, 24]          --\n",
       "|    |    └─Conv2d: 3-540                [-1, 64, 24, 24]          36,864\n",
       "|    |    └─BatchNorm2d: 3-541           [-1, 64, 24, 24]          128\n",
       "|    |    └─ReLU: 3-542                  [-1, 64, 24, 24]          --\n",
       "|    └─res_block: 2-91                   [-1, 64, 24, 24]          --\n",
       "|    |    └─Conv2d: 3-543                [-1, 64, 24, 24]          36,864\n",
       "|    |    └─BatchNorm2d: 3-544           [-1, 64, 24, 24]          128\n",
       "|    |    └─ReLU: 3-545                  [-1, 64, 24, 24]          --\n",
       "|    |    └─Conv2d: 3-546                [-1, 64, 24, 24]          36,864\n",
       "|    |    └─BatchNorm2d: 3-547           [-1, 64, 24, 24]          128\n",
       "|    |    └─ReLU: 3-548                  [-1, 64, 24, 24]          --\n",
       "|    └─res_block: 2-92                   [-1, 64, 24, 24]          --\n",
       "|    |    └─Conv2d: 3-549                [-1, 64, 24, 24]          36,864\n",
       "|    |    └─BatchNorm2d: 3-550           [-1, 64, 24, 24]          128\n",
       "|    |    └─ReLU: 3-551                  [-1, 64, 24, 24]          --\n",
       "|    |    └─Conv2d: 3-552                [-1, 64, 24, 24]          36,864\n",
       "|    |    └─BatchNorm2d: 3-553           [-1, 64, 24, 24]          128\n",
       "|    |    └─ReLU: 3-554                  [-1, 64, 24, 24]          --\n",
       "├─AvgPool2d: 1-10                        [-1, 64, 3, 3]            --\n",
       "├─Linear: 1-11                           [-1, 256]                 147,712\n",
       "==========================================================================================\n",
       "Total params: 4,406,088\n",
       "Trainable params: 4,406,088\n",
       "Non-trainable params: 0\n",
       "Total mult-adds (G): 3.93\n",
       "==========================================================================================\n",
       "Input size (MB): 0.11\n",
       "Forward/backward pass size (MB): 176.06\n",
       "Params size (MB): 16.81\n",
       "Estimated Total Size (MB): 192.98\n",
       "=========================================================================================="
      ]
     },
     "execution_count": 10,
     "metadata": {},
     "output_type": "execute_result"
    }
   ],
   "source": [
    "import torch\n",
    "from torch import nn\n",
    "from torch.nn import functional as F\n",
    "from torch.utils.data import DataLoader\n",
    "from torch.utils.data import random_split\n",
    "from torchvision.datasets import MNIST\n",
    "from torchvision import transforms\n",
    "import pytorch_lightning as pl\n",
    "import torchmetrics\n",
    "\n",
    "import os\n",
    "os.environ[\"CUDA_DEVICE_ORDER\"]=\"PCI_BUS_ID\"   # see issue #152\n",
    "os.environ[\"CUDA_VISIBLE_DEVICES\"]=\"1\"\n",
    "\n",
    "def conv_res(in_channels, out_channels, stride=1):\n",
    "    return nn.Conv2d(in_channels, out_channels, kernel_size=3, \n",
    "                     stride=stride, padding=1, bias=False)\n",
    "\n",
    "# Residual block\n",
    "class res_block(nn.Module):\n",
    "    def __init__(self, in_channels, out_channels, stride=1, downsample=None):\n",
    "        super(res_block, self).__init__()\n",
    "        self.conv1 = conv_res(in_channels, out_channels, stride)\n",
    "        self.bn = nn.BatchNorm2d(out_channels)\n",
    "        self.relu = nn.ReLU(inplace=True)\n",
    "        self.conv2 = conv_res(out_channels, out_channels)\n",
    "        self.bn1 = nn.BatchNorm2d(out_channels)\n",
    "        self.downsample = downsample\n",
    "        \n",
    "    def forward(self, x):\n",
    "        residual = x\n",
    "        out = self.relu(self.bn(self.conv1(x)))\n",
    "        out = self.bn1(self.conv2(out))\n",
    "        if self.downsample:\n",
    "            residual = self.downsample(x)\n",
    "        out += residual\n",
    "        out = self.relu(out)\n",
    "        return out\n",
    "\n",
    "# ResNet\n",
    "class res_net(nn.Module):\n",
    "    def __init__(self, block, layers, triplet=False, num_classes=10):\n",
    "        super(res_net, self).__init__()\n",
    "        self.in_channels = 16\n",
    "        self.triplet = triplet\n",
    "        self.conv = conv_res(3, 8)\n",
    "        self.conv1 = conv_res(8, 16)\n",
    "        self.bn = nn.BatchNorm2d(8)\n",
    "        self.bn1 = nn.BatchNorm2d(16)\n",
    "        self.relu = nn.ReLU(inplace=True)\n",
    "        self.layer1 = self.rep_layer(block, 16, layers[0])\n",
    "        self.layer2 = self.rep_layer(block, 32, layers[1], 2)\n",
    "        self.layer3 = self.rep_layer(block, 64, layers[2], 2)\n",
    "        self.avg_pool = nn.AvgPool2d(8)\n",
    "        self.fc1 = nn.Linear(576, 256)\n",
    "        self.fc2 = nn.Linear(64, num_classes)\n",
    "        self.sigmoid = nn.Sigmoid()\n",
    "\n",
    "        \n",
    "    def rep_layer(self, block, out_channels, blocks, stride=1):\n",
    "        downsample = None\n",
    "        if (stride != 1) or (self.in_channels != out_channels):\n",
    "            downsample = nn.Sequential(\n",
    "                conv_res(self.in_channels, out_channels, stride=stride),\n",
    "                nn.BatchNorm2d(out_channels))\n",
    "        layers = []\n",
    "        layers.append(block(self.in_channels, out_channels, stride, downsample))\n",
    "        self.in_channels = out_channels\n",
    "        for i in range(1, blocks):\n",
    "            layers.append(block(out_channels, out_channels))\n",
    "        return nn.Sequential(*layers)\n",
    "    \n",
    "    def forward_pass(self,x):\n",
    "        out = self.relu(self.bn(self.conv(x)))\n",
    "        out = self.relu(self.bn1(self.conv1(out)))\n",
    "        out = self.layer1(out)\n",
    "        out = self.layer2(out)\n",
    "        out = self.layer3(out)\n",
    "        out = self.avg_pool(out)\n",
    "        out = out.view(out.size(0), -1)\n",
    "        out = self.fc1(out)\n",
    "        \n",
    "        return out\n",
    "    \n",
    "#     def dual_pass(self, x1, x2):\n",
    "#         return self.sigmoid(self.forward_pass(x1)), self.sigmoid(self.forward_pass(x2))\n",
    "        \n",
    "    def forward(self, x):\n",
    "       \n",
    "        if self.triplet:\n",
    "\n",
    "            return self.forward_pass(x)\n",
    "        \n",
    "        else:\n",
    "            out = self.relu(self.forward_pass(x))\n",
    "            return self.fc2(out)\n",
    "        \n",
    "    \n",
    "# resnet = res_net(res_block, [4, 16, 16*2], triplet=True, num_classes=len(classes))\n",
    "# \n",
    "resnet = res_net(res_block, [8, 36, 48], triplet=True, num_classes=len(classes))\n",
    "from torchsummary import summary\n",
    "summary(resnet,(3,96,96))\n",
    "\n"
   ]
  },
  {
   "cell_type": "code",
   "execution_count": null,
   "metadata": {
    "colab": {
     "base_uri": "https://localhost:8080/",
     "height": 413
    },
    "id": "wErXEqnGB0ZL",
    "outputId": "6fc145e8-aa18-4018-9ab3-711cc850c0e6"
   },
   "outputs": [
    {
     "name": "stderr",
     "output_type": "stream",
     "text": [
      "Failed to detect the name of this notebook, you can set it manually with the WANDB_NOTEBOOK_NAME environment variable to enable code saving.\n",
      "\u001b[34m\u001b[1mwandb\u001b[0m: Currently logged in as: \u001b[33mneuronics\u001b[0m (use `wandb login --relogin` to force relogin)\n"
     ]
    },
    {
     "data": {
      "text/html": [
       "\n",
       "                Tracking run with wandb version 0.11.0<br/>\n",
       "                Syncing run <strong style=\"color:#cdcd00\">feasible-thunder-13</strong> to <a href=\"https://wandb.ai\" target=\"_blank\">Weights & Biases</a> <a href=\"https://docs.wandb.com/integrations/jupyter.html\" target=\"_blank\">(Documentation)</a>.<br/>\n",
       "                Project page: <a href=\"https://wandb.ai/neuronics/uncategorized\" target=\"_blank\">https://wandb.ai/neuronics/uncategorized</a><br/>\n",
       "                Run page: <a href=\"https://wandb.ai/neuronics/uncategorized/runs/372xbyas\" target=\"_blank\">https://wandb.ai/neuronics/uncategorized/runs/372xbyas</a><br/>\n",
       "                Run data is saved locally in <code>/data/sathya/viper/wandb/run-20210725_001931-372xbyas</code><br/><br/>\n",
       "            "
      ],
      "text/plain": [
       "<IPython.core.display.HTML object>"
      ]
     },
     "metadata": {},
     "output_type": "display_data"
    },
    {
     "name": "stderr",
     "output_type": "stream",
     "text": [
      "GPU available: True, used: True\n",
      "TPU available: False, using: 0 TPU cores\n",
      "Using native 16bit precision.\n",
      "LOCAL_RANK: 0 - CUDA_VISIBLE_DEVICES: [1]\n",
      "\n",
      "  | Name         | Type              | Params\n",
      "---------------------------------------------------\n",
      "0 | model        | res_net           | 4.4 M \n",
      "1 | accuracy     | Accuracy          | 0     \n",
      "2 | triplet_loss | TripletMarginLoss | 0     \n",
      "3 | fc2          | Linear            | 16.4 K\n",
      "4 | fc3          | Linear            | 325   \n",
      "5 | relu         | ReLU              | 0     \n",
      "---------------------------------------------------\n",
      "4.4 M     Trainable params\n",
      "0         Non-trainable params\n",
      "4.4 M     Total params\n",
      "17.693    Total estimated model params size (MB)\n"
     ]
    },
    {
     "name": "stdout",
     "output_type": "stream",
     "text": [
      "Adjusting learning rate of group 0 to 1.0000e-08.\n"
     ]
    },
    {
     "data": {
      "application/vnd.jupyter.widget-view+json": {
       "model_id": "",
       "version_major": 2,
       "version_minor": 0
      },
      "text/plain": [
       "Validation sanity check: 0it [00:00, ?it/s]"
      ]
     },
     "metadata": {},
     "output_type": "display_data"
    },
    {
     "data": {
      "application/vnd.jupyter.widget-view+json": {
       "model_id": "67f2ef3570244f949ea0ae8ce543cbc7",
       "version_major": 2,
       "version_minor": 0
      },
      "text/plain": [
       "Training: 0it [00:00, ?it/s]"
      ]
     },
     "metadata": {},
     "output_type": "display_data"
    },
    {
     "data": {
      "application/vnd.jupyter.widget-view+json": {
       "model_id": "",
       "version_major": 2,
       "version_minor": 0
      },
      "text/plain": [
       "Validating: 0it [00:00, ?it/s]"
      ]
     },
     "metadata": {},
     "output_type": "display_data"
    },
    {
     "name": "stdout",
     "output_type": "stream",
     "text": [
      "Adjusting learning rate of group 0 to 2.4473e-04.\n"
     ]
    },
    {
     "data": {
      "application/vnd.jupyter.widget-view+json": {
       "model_id": "",
       "version_major": 2,
       "version_minor": 0
      },
      "text/plain": [
       "Validating: 0it [00:00, ?it/s]"
      ]
     },
     "metadata": {},
     "output_type": "display_data"
    },
    {
     "name": "stdout",
     "output_type": "stream",
     "text": [
      "Adjusting learning rate of group 0 to 9.5492e-04.\n"
     ]
    },
    {
     "data": {
      "application/vnd.jupyter.widget-view+json": {
       "model_id": "",
       "version_major": 2,
       "version_minor": 0
      },
      "text/plain": [
       "Validating: 0it [00:00, ?it/s]"
      ]
     },
     "metadata": {},
     "output_type": "display_data"
    },
    {
     "name": "stdout",
     "output_type": "stream",
     "text": [
      "Adjusting learning rate of group 0 to 2.0611e-03.\n"
     ]
    },
    {
     "data": {
      "application/vnd.jupyter.widget-view+json": {
       "model_id": "",
       "version_major": 2,
       "version_minor": 0
      },
      "text/plain": [
       "Validating: 0it [00:00, ?it/s]"
      ]
     },
     "metadata": {},
     "output_type": "display_data"
    },
    {
     "name": "stdout",
     "output_type": "stream",
     "text": [
      "Adjusting learning rate of group 0 to 3.4549e-03.\n"
     ]
    },
    {
     "data": {
      "application/vnd.jupyter.widget-view+json": {
       "model_id": "",
       "version_major": 2,
       "version_minor": 0
      },
      "text/plain": [
       "Validating: 0it [00:00, ?it/s]"
      ]
     },
     "metadata": {},
     "output_type": "display_data"
    },
    {
     "name": "stdout",
     "output_type": "stream",
     "text": [
      "Adjusting learning rate of group 0 to 5.0000e-03.\n"
     ]
    },
    {
     "data": {
      "application/vnd.jupyter.widget-view+json": {
       "model_id": "",
       "version_major": 2,
       "version_minor": 0
      },
      "text/plain": [
       "Validating: 0it [00:00, ?it/s]"
      ]
     },
     "metadata": {},
     "output_type": "display_data"
    },
    {
     "name": "stdout",
     "output_type": "stream",
     "text": [
      "Adjusting learning rate of group 0 to 6.5451e-03.\n"
     ]
    },
    {
     "data": {
      "application/vnd.jupyter.widget-view+json": {
       "model_id": "",
       "version_major": 2,
       "version_minor": 0
      },
      "text/plain": [
       "Validating: 0it [00:00, ?it/s]"
      ]
     },
     "metadata": {},
     "output_type": "display_data"
    },
    {
     "name": "stdout",
     "output_type": "stream",
     "text": [
      "Adjusting learning rate of group 0 to 7.9389e-03.\n"
     ]
    },
    {
     "data": {
      "application/vnd.jupyter.widget-view+json": {
       "model_id": "",
       "version_major": 2,
       "version_minor": 0
      },
      "text/plain": [
       "Validating: 0it [00:00, ?it/s]"
      ]
     },
     "metadata": {},
     "output_type": "display_data"
    },
    {
     "name": "stdout",
     "output_type": "stream",
     "text": [
      "Adjusting learning rate of group 0 to 9.0451e-03.\n"
     ]
    },
    {
     "data": {
      "application/vnd.jupyter.widget-view+json": {
       "model_id": "",
       "version_major": 2,
       "version_minor": 0
      },
      "text/plain": [
       "Validating: 0it [00:00, ?it/s]"
      ]
     },
     "metadata": {},
     "output_type": "display_data"
    },
    {
     "name": "stdout",
     "output_type": "stream",
     "text": [
      "Adjusting learning rate of group 0 to 9.7553e-03.\n"
     ]
    },
    {
     "data": {
      "application/vnd.jupyter.widget-view+json": {
       "model_id": "",
       "version_major": 2,
       "version_minor": 0
      },
      "text/plain": [
       "Validating: 0it [00:00, ?it/s]"
      ]
     },
     "metadata": {},
     "output_type": "display_data"
    },
    {
     "name": "stdout",
     "output_type": "stream",
     "text": [
      "Adjusting learning rate of group 0 to 1.0000e-02.\n"
     ]
    },
    {
     "data": {
      "application/vnd.jupyter.widget-view+json": {
       "model_id": "",
       "version_major": 2,
       "version_minor": 0
      },
      "text/plain": [
       "Validating: 0it [00:00, ?it/s]"
      ]
     },
     "metadata": {},
     "output_type": "display_data"
    },
    {
     "name": "stdout",
     "output_type": "stream",
     "text": [
      "Adjusting learning rate of group 0 to 9.7553e-03.\n"
     ]
    },
    {
     "data": {
      "application/vnd.jupyter.widget-view+json": {
       "model_id": "",
       "version_major": 2,
       "version_minor": 0
      },
      "text/plain": [
       "Validating: 0it [00:00, ?it/s]"
      ]
     },
     "metadata": {},
     "output_type": "display_data"
    },
    {
     "name": "stdout",
     "output_type": "stream",
     "text": [
      "Adjusting learning rate of group 0 to 9.0451e-03.\n"
     ]
    },
    {
     "data": {
      "application/vnd.jupyter.widget-view+json": {
       "model_id": "",
       "version_major": 2,
       "version_minor": 0
      },
      "text/plain": [
       "Validating: 0it [00:00, ?it/s]"
      ]
     },
     "metadata": {},
     "output_type": "display_data"
    },
    {
     "name": "stdout",
     "output_type": "stream",
     "text": [
      "Adjusting learning rate of group 0 to 7.9389e-03.\n"
     ]
    },
    {
     "data": {
      "application/vnd.jupyter.widget-view+json": {
       "model_id": "",
       "version_major": 2,
       "version_minor": 0
      },
      "text/plain": [
       "Validating: 0it [00:00, ?it/s]"
      ]
     },
     "metadata": {},
     "output_type": "display_data"
    },
    {
     "name": "stdout",
     "output_type": "stream",
     "text": [
      "Adjusting learning rate of group 0 to 6.5451e-03.\n"
     ]
    },
    {
     "data": {
      "application/vnd.jupyter.widget-view+json": {
       "model_id": "",
       "version_major": 2,
       "version_minor": 0
      },
      "text/plain": [
       "Validating: 0it [00:00, ?it/s]"
      ]
     },
     "metadata": {},
     "output_type": "display_data"
    },
    {
     "name": "stdout",
     "output_type": "stream",
     "text": [
      "Adjusting learning rate of group 0 to 5.0000e-03.\n"
     ]
    },
    {
     "data": {
      "application/vnd.jupyter.widget-view+json": {
       "model_id": "",
       "version_major": 2,
       "version_minor": 0
      },
      "text/plain": [
       "Validating: 0it [00:00, ?it/s]"
      ]
     },
     "metadata": {},
     "output_type": "display_data"
    },
    {
     "name": "stdout",
     "output_type": "stream",
     "text": [
      "Adjusting learning rate of group 0 to 3.4549e-03.\n"
     ]
    },
    {
     "data": {
      "application/vnd.jupyter.widget-view+json": {
       "model_id": "",
       "version_major": 2,
       "version_minor": 0
      },
      "text/plain": [
       "Validating: 0it [00:00, ?it/s]"
      ]
     },
     "metadata": {},
     "output_type": "display_data"
    },
    {
     "name": "stdout",
     "output_type": "stream",
     "text": [
      "Adjusting learning rate of group 0 to 2.0611e-03.\n"
     ]
    },
    {
     "data": {
      "application/vnd.jupyter.widget-view+json": {
       "model_id": "",
       "version_major": 2,
       "version_minor": 0
      },
      "text/plain": [
       "Validating: 0it [00:00, ?it/s]"
      ]
     },
     "metadata": {},
     "output_type": "display_data"
    },
    {
     "name": "stdout",
     "output_type": "stream",
     "text": [
      "Adjusting learning rate of group 0 to 9.5492e-04.\n"
     ]
    },
    {
     "data": {
      "application/vnd.jupyter.widget-view+json": {
       "model_id": "",
       "version_major": 2,
       "version_minor": 0
      },
      "text/plain": [
       "Validating: 0it [00:00, ?it/s]"
      ]
     },
     "metadata": {},
     "output_type": "display_data"
    },
    {
     "name": "stdout",
     "output_type": "stream",
     "text": [
      "Adjusting learning rate of group 0 to 2.4473e-04.\n"
     ]
    },
    {
     "data": {
      "application/vnd.jupyter.widget-view+json": {
       "model_id": "",
       "version_major": 2,
       "version_minor": 0
      },
      "text/plain": [
       "Validating: 0it [00:00, ?it/s]"
      ]
     },
     "metadata": {},
     "output_type": "display_data"
    },
    {
     "name": "stdout",
     "output_type": "stream",
     "text": [
      "Adjusting learning rate of group 0 to 1.0000e-08.\n"
     ]
    },
    {
     "data": {
      "application/vnd.jupyter.widget-view+json": {
       "model_id": "",
       "version_major": 2,
       "version_minor": 0
      },
      "text/plain": [
       "Validating: 0it [00:00, ?it/s]"
      ]
     },
     "metadata": {},
     "output_type": "display_data"
    },
    {
     "name": "stdout",
     "output_type": "stream",
     "text": [
      "Adjusting learning rate of group 0 to 2.4473e-04.\n"
     ]
    },
    {
     "data": {
      "application/vnd.jupyter.widget-view+json": {
       "model_id": "",
       "version_major": 2,
       "version_minor": 0
      },
      "text/plain": [
       "Validating: 0it [00:00, ?it/s]"
      ]
     },
     "metadata": {},
     "output_type": "display_data"
    },
    {
     "name": "stdout",
     "output_type": "stream",
     "text": [
      "Adjusting learning rate of group 0 to 9.5492e-04.\n"
     ]
    },
    {
     "data": {
      "application/vnd.jupyter.widget-view+json": {
       "model_id": "",
       "version_major": 2,
       "version_minor": 0
      },
      "text/plain": [
       "Validating: 0it [00:00, ?it/s]"
      ]
     },
     "metadata": {},
     "output_type": "display_data"
    },
    {
     "name": "stdout",
     "output_type": "stream",
     "text": [
      "Adjusting learning rate of group 0 to 2.0611e-03.\n"
     ]
    },
    {
     "data": {
      "application/vnd.jupyter.widget-view+json": {
       "model_id": "",
       "version_major": 2,
       "version_minor": 0
      },
      "text/plain": [
       "Validating: 0it [00:00, ?it/s]"
      ]
     },
     "metadata": {},
     "output_type": "display_data"
    },
    {
     "name": "stdout",
     "output_type": "stream",
     "text": [
      "Adjusting learning rate of group 0 to 3.4549e-03.\n"
     ]
    },
    {
     "data": {
      "application/vnd.jupyter.widget-view+json": {
       "model_id": "",
       "version_major": 2,
       "version_minor": 0
      },
      "text/plain": [
       "Validating: 0it [00:00, ?it/s]"
      ]
     },
     "metadata": {},
     "output_type": "display_data"
    },
    {
     "name": "stdout",
     "output_type": "stream",
     "text": [
      "Adjusting learning rate of group 0 to 5.0000e-03.\n"
     ]
    },
    {
     "data": {
      "application/vnd.jupyter.widget-view+json": {
       "model_id": "",
       "version_major": 2,
       "version_minor": 0
      },
      "text/plain": [
       "Validating: 0it [00:00, ?it/s]"
      ]
     },
     "metadata": {},
     "output_type": "display_data"
    },
    {
     "name": "stdout",
     "output_type": "stream",
     "text": [
      "Adjusting learning rate of group 0 to 6.5451e-03.\n"
     ]
    },
    {
     "data": {
      "application/vnd.jupyter.widget-view+json": {
       "model_id": "",
       "version_major": 2,
       "version_minor": 0
      },
      "text/plain": [
       "Validating: 0it [00:00, ?it/s]"
      ]
     },
     "metadata": {},
     "output_type": "display_data"
    },
    {
     "name": "stdout",
     "output_type": "stream",
     "text": [
      "Adjusting learning rate of group 0 to 7.9389e-03.\n"
     ]
    },
    {
     "data": {
      "application/vnd.jupyter.widget-view+json": {
       "model_id": "",
       "version_major": 2,
       "version_minor": 0
      },
      "text/plain": [
       "Validating: 0it [00:00, ?it/s]"
      ]
     },
     "metadata": {},
     "output_type": "display_data"
    },
    {
     "name": "stdout",
     "output_type": "stream",
     "text": [
      "Adjusting learning rate of group 0 to 9.0451e-03.\n"
     ]
    },
    {
     "data": {
      "application/vnd.jupyter.widget-view+json": {
       "model_id": "",
       "version_major": 2,
       "version_minor": 0
      },
      "text/plain": [
       "Validating: 0it [00:00, ?it/s]"
      ]
     },
     "metadata": {},
     "output_type": "display_data"
    },
    {
     "name": "stdout",
     "output_type": "stream",
     "text": [
      "Adjusting learning rate of group 0 to 9.7553e-03.\n"
     ]
    },
    {
     "data": {
      "application/vnd.jupyter.widget-view+json": {
       "model_id": "",
       "version_major": 2,
       "version_minor": 0
      },
      "text/plain": [
       "Validating: 0it [00:00, ?it/s]"
      ]
     },
     "metadata": {},
     "output_type": "display_data"
    },
    {
     "name": "stdout",
     "output_type": "stream",
     "text": [
      "Adjusting learning rate of group 0 to 1.0000e-02.\n"
     ]
    },
    {
     "data": {
      "application/vnd.jupyter.widget-view+json": {
       "model_id": "",
       "version_major": 2,
       "version_minor": 0
      },
      "text/plain": [
       "Validating: 0it [00:00, ?it/s]"
      ]
     },
     "metadata": {},
     "output_type": "display_data"
    },
    {
     "name": "stdout",
     "output_type": "stream",
     "text": [
      "Adjusting learning rate of group 0 to 9.7553e-03.\n"
     ]
    },
    {
     "data": {
      "application/vnd.jupyter.widget-view+json": {
       "model_id": "",
       "version_major": 2,
       "version_minor": 0
      },
      "text/plain": [
       "Validating: 0it [00:00, ?it/s]"
      ]
     },
     "metadata": {},
     "output_type": "display_data"
    },
    {
     "name": "stdout",
     "output_type": "stream",
     "text": [
      "Adjusting learning rate of group 0 to 9.0451e-03.\n"
     ]
    },
    {
     "data": {
      "application/vnd.jupyter.widget-view+json": {
       "model_id": "",
       "version_major": 2,
       "version_minor": 0
      },
      "text/plain": [
       "Validating: 0it [00:00, ?it/s]"
      ]
     },
     "metadata": {},
     "output_type": "display_data"
    },
    {
     "name": "stdout",
     "output_type": "stream",
     "text": [
      "Adjusting learning rate of group 0 to 7.9389e-03.\n"
     ]
    },
    {
     "data": {
      "application/vnd.jupyter.widget-view+json": {
       "model_id": "",
       "version_major": 2,
       "version_minor": 0
      },
      "text/plain": [
       "Validating: 0it [00:00, ?it/s]"
      ]
     },
     "metadata": {},
     "output_type": "display_data"
    },
    {
     "name": "stdout",
     "output_type": "stream",
     "text": [
      "Adjusting learning rate of group 0 to 6.5451e-03.\n"
     ]
    },
    {
     "data": {
      "application/vnd.jupyter.widget-view+json": {
       "model_id": "",
       "version_major": 2,
       "version_minor": 0
      },
      "text/plain": [
       "Validating: 0it [00:00, ?it/s]"
      ]
     },
     "metadata": {},
     "output_type": "display_data"
    },
    {
     "name": "stdout",
     "output_type": "stream",
     "text": [
      "Adjusting learning rate of group 0 to 5.0000e-03.\n"
     ]
    },
    {
     "data": {
      "application/vnd.jupyter.widget-view+json": {
       "model_id": "",
       "version_major": 2,
       "version_minor": 0
      },
      "text/plain": [
       "Validating: 0it [00:00, ?it/s]"
      ]
     },
     "metadata": {},
     "output_type": "display_data"
    },
    {
     "name": "stdout",
     "output_type": "stream",
     "text": [
      "Adjusting learning rate of group 0 to 3.4549e-03.\n"
     ]
    },
    {
     "data": {
      "application/vnd.jupyter.widget-view+json": {
       "model_id": "",
       "version_major": 2,
       "version_minor": 0
      },
      "text/plain": [
       "Validating: 0it [00:00, ?it/s]"
      ]
     },
     "metadata": {},
     "output_type": "display_data"
    },
    {
     "name": "stdout",
     "output_type": "stream",
     "text": [
      "Adjusting learning rate of group 0 to 2.0611e-03.\n"
     ]
    },
    {
     "data": {
      "application/vnd.jupyter.widget-view+json": {
       "model_id": "",
       "version_major": 2,
       "version_minor": 0
      },
      "text/plain": [
       "Validating: 0it [00:00, ?it/s]"
      ]
     },
     "metadata": {},
     "output_type": "display_data"
    },
    {
     "name": "stdout",
     "output_type": "stream",
     "text": [
      "Adjusting learning rate of group 0 to 9.5492e-04.\n"
     ]
    },
    {
     "data": {
      "application/vnd.jupyter.widget-view+json": {
       "model_id": "",
       "version_major": 2,
       "version_minor": 0
      },
      "text/plain": [
       "Validating: 0it [00:00, ?it/s]"
      ]
     },
     "metadata": {},
     "output_type": "display_data"
    },
    {
     "name": "stdout",
     "output_type": "stream",
     "text": [
      "Adjusting learning rate of group 0 to 2.4473e-04.\n"
     ]
    },
    {
     "data": {
      "application/vnd.jupyter.widget-view+json": {
       "model_id": "",
       "version_major": 2,
       "version_minor": 0
      },
      "text/plain": [
       "Validating: 0it [00:00, ?it/s]"
      ]
     },
     "metadata": {},
     "output_type": "display_data"
    },
    {
     "name": "stdout",
     "output_type": "stream",
     "text": [
      "Adjusting learning rate of group 0 to 1.0000e-08.\n"
     ]
    },
    {
     "data": {
      "application/vnd.jupyter.widget-view+json": {
       "model_id": "",
       "version_major": 2,
       "version_minor": 0
      },
      "text/plain": [
       "Validating: 0it [00:00, ?it/s]"
      ]
     },
     "metadata": {},
     "output_type": "display_data"
    },
    {
     "name": "stdout",
     "output_type": "stream",
     "text": [
      "Adjusting learning rate of group 0 to 2.4473e-04.\n"
     ]
    },
    {
     "data": {
      "application/vnd.jupyter.widget-view+json": {
       "model_id": "",
       "version_major": 2,
       "version_minor": 0
      },
      "text/plain": [
       "Validating: 0it [00:00, ?it/s]"
      ]
     },
     "metadata": {},
     "output_type": "display_data"
    },
    {
     "name": "stdout",
     "output_type": "stream",
     "text": [
      "Adjusting learning rate of group 0 to 9.5492e-04.\n"
     ]
    },
    {
     "data": {
      "application/vnd.jupyter.widget-view+json": {
       "model_id": "",
       "version_major": 2,
       "version_minor": 0
      },
      "text/plain": [
       "Validating: 0it [00:00, ?it/s]"
      ]
     },
     "metadata": {},
     "output_type": "display_data"
    },
    {
     "name": "stdout",
     "output_type": "stream",
     "text": [
      "Adjusting learning rate of group 0 to 2.0611e-03.\n"
     ]
    },
    {
     "data": {
      "application/vnd.jupyter.widget-view+json": {
       "model_id": "",
       "version_major": 2,
       "version_minor": 0
      },
      "text/plain": [
       "Validating: 0it [00:00, ?it/s]"
      ]
     },
     "metadata": {},
     "output_type": "display_data"
    },
    {
     "name": "stdout",
     "output_type": "stream",
     "text": [
      "Adjusting learning rate of group 0 to 3.4549e-03.\n"
     ]
    },
    {
     "data": {
      "application/vnd.jupyter.widget-view+json": {
       "model_id": "",
       "version_major": 2,
       "version_minor": 0
      },
      "text/plain": [
       "Validating: 0it [00:00, ?it/s]"
      ]
     },
     "metadata": {},
     "output_type": "display_data"
    },
    {
     "name": "stdout",
     "output_type": "stream",
     "text": [
      "Adjusting learning rate of group 0 to 5.0000e-03.\n"
     ]
    },
    {
     "data": {
      "application/vnd.jupyter.widget-view+json": {
       "model_id": "",
       "version_major": 2,
       "version_minor": 0
      },
      "text/plain": [
       "Validating: 0it [00:00, ?it/s]"
      ]
     },
     "metadata": {},
     "output_type": "display_data"
    },
    {
     "name": "stdout",
     "output_type": "stream",
     "text": [
      "Adjusting learning rate of group 0 to 6.5451e-03.\n"
     ]
    },
    {
     "data": {
      "application/vnd.jupyter.widget-view+json": {
       "model_id": "",
       "version_major": 2,
       "version_minor": 0
      },
      "text/plain": [
       "Validating: 0it [00:00, ?it/s]"
      ]
     },
     "metadata": {},
     "output_type": "display_data"
    },
    {
     "name": "stdout",
     "output_type": "stream",
     "text": [
      "Adjusting learning rate of group 0 to 7.9389e-03.\n"
     ]
    },
    {
     "data": {
      "application/vnd.jupyter.widget-view+json": {
       "model_id": "",
       "version_major": 2,
       "version_minor": 0
      },
      "text/plain": [
       "Validating: 0it [00:00, ?it/s]"
      ]
     },
     "metadata": {},
     "output_type": "display_data"
    },
    {
     "name": "stdout",
     "output_type": "stream",
     "text": [
      "Adjusting learning rate of group 0 to 9.0451e-03.\n"
     ]
    }
   ],
   "source": [
    "checkpoint_callback_cn = ModelCheckpoint(\n",
    "        monitor='train_loss',\n",
    "        mode = 'min',\n",
    "        save_last=True,\n",
    "        dirpath='weights/triplet_loss',\n",
    "        filename='CE_loss-{epoch:02d}-{train_loss:.8f}'\n",
    "    )\n",
    "\n",
    "checkpoint_callback = ModelCheckpoint(\n",
    "        monitor='valid_acc',\n",
    "        mode = 'max',\n",
    "        save_last=True,\n",
    "        dirpath='weights/triplet_loss+focal/256_CE_8,36,48-P',\n",
    "        filename='CE_loss-{epoch:02d}-{valid_acc:.3f}'\n",
    "    )\n",
    "import wandb\n",
    "wandb.init()\n",
    "\n",
    "wandb.watch(resnet)\n",
    "import ipdb\n",
    "class ContrastiveLoss(nn.Module):\n",
    "    \n",
    "    def __init__(self):\n",
    "        super(ContrastiveLoss, self).__init__()\n",
    "        self.margin = 1.\n",
    "        self.eps = 1e-9\n",
    "\n",
    "    def forward(self, output1, output2, target, size_average=True):\n",
    "        distances = (output2 - output1).pow(2).sum(1)  # squared distances\n",
    "        losses = 0.5 * (float(target) * distances +\n",
    "                        float(1 + -1 * target) * F.relu(self.margin - (distances + self.eps).sqrt()).pow(2))\n",
    "        return losses.mean() if size_average else losses.sum()\n",
    "    \n",
    "contrastive_loss = ContrastiveLoss()\n",
    "\n",
    "class Net(pl.LightningModule):\n",
    "    def __init__(self, model, triplet=False):\n",
    "        super().__init__()\n",
    "        self.model = model\n",
    "        self.accuracy = torchmetrics.Accuracy()\n",
    "        self.triplet = triplet\n",
    "        self.triplet_loss = nn.TripletMarginLoss(margin=1.0, p=2)\n",
    "        self.fc2 = nn.Linear(256, 64)\n",
    "        self.fc3 = nn.Linear(64, 5)\n",
    "        self.alpha = 1\n",
    "        self.gamma = 2\n",
    "        self.relu = nn.ReLU()\n",
    "\n",
    "    def forward(self, x1, x2=None):\n",
    "        if self.triplet:\n",
    "            embedding1 = self.model(x1)\n",
    "            embedding2 = self.model(x2)\n",
    "            return embedding1, embedding2\n",
    "        \n",
    "        else:\n",
    "\n",
    "            embedding = self.model(x1)\n",
    "            return embedding\n",
    "\n",
    "    def configure_optimizers(self):\n",
    "        self.optimizer = SWA(torch.optim.Adam(self.model.parameters(),  lr=1e-8))\n",
    "        self.scheduler = torch.optim.lr_scheduler.CosineAnnealingLR(self.optimizer,\n",
    "                                                                    T_max=10,\n",
    "                                                                    eta_min=1e-2,\n",
    "                                                                    verbose=True)\n",
    "\n",
    "        return {'optimizer': self.optimizer, 'lr_scheduler': self.scheduler}\n",
    "\n",
    "    def training_step(self, train_batch, batch_idx):\n",
    "        if self.triplet:\n",
    "            (anc,lab_anc),(pos,lab_pos),(neg,lab_neg) = train_batch\n",
    "           \n",
    "            z_anc = self.model(anc)\n",
    "            z_pos = self.model(pos)\n",
    "            z_neg = self.model(neg)\n",
    "            cont_pos = contrastive_loss(z_anc, z_pos, 1)\n",
    "            cont_neg = contrastive_loss(z_anc, z_neg, 0)\n",
    "            \n",
    "            \n",
    "            z = self.fc2(self.relu(z_anc))\n",
    "            z = self.fc3(self.relu(z))\n",
    "\n",
    "           #Contrastive Loss\n",
    "\n",
    "    \n",
    "            \n",
    "            \n",
    "            CE_loss = F.cross_entropy(z,lab_anc)\n",
    "            pt = torch.exp(-CE_loss)\n",
    "            F_loss = self.alpha * (1-pt)**self.gamma * CE_loss\n",
    "            \n",
    "            loss = self.triplet_loss(z_anc, z_pos, z_neg) + F_loss# + cont_pos + cont_neg\n",
    "            acc = self.accuracy(z, lab_anc)\n",
    "            logs = {'train_loss': loss,'train_acc':acc , 'lr': self.optimizer.param_groups[0]['lr']}\n",
    "            self.log_dict(logs, on_step=False, on_epoch=True, prog_bar=True, logger=True)\n",
    "            return loss\n",
    "\n",
    "        \n",
    "        else:\n",
    "            x, y = train_batch\n",
    "            z = self.relu(self.model(x))\n",
    "            z = self.relu(self.fc2(z))\n",
    "            z = self.fc3(z)\n",
    "            loss = F.cross_entropy(z,y)\n",
    "            acc = self.accuracy(z, y)\n",
    "            logs = {'train_loss': loss, 'train_acc': acc, 'lr': self.optimizer.param_groups[0]['lr']}\n",
    "            self.log_dict(logs, on_step=False, on_epoch=True, prog_bar=True, logger=True)\n",
    "            return loss\n",
    "\n",
    "    def validation_step(self, val_batch, batch_idx):\n",
    "\n",
    "            x, y = val_batch\n",
    "            z = self.relu(self.model(x))\n",
    "            z = self.fc2(z)\n",
    "            z = self.fc3(self.relu(z))\n",
    "            loss = F.cross_entropy(z, y)\n",
    "            acc = self.accuracy(z, y)\n",
    "            logs = {'valid_loss': loss, 'valid_acc': acc}\n",
    "            self.log_dict(logs, on_step=False, on_epoch=True, prog_bar=True, logger=True)\n",
    "            wandb.log({\"valid_acc\": acc})\n",
    "            return loss\n",
    "  \n",
    "    def training_epoch_end(self, outs):\n",
    "        self.log('train_acc_epoch', self.accuracy.compute())\n",
    "\n",
    "# model\n",
    "model = Net(resnet, triplet=config.triplet)\n",
    "\n",
    "# training\n",
    "trainer = pl.Trainer(gpus=1,precision=16, max_epochs=600, callbacks=[checkpoint_callback])\n",
    "trainer.fit(model, train_dataloader_triplet, val_dataloader)\n",
    "    \n",
    "    \n",
    "    # Have removed brightness augmentor run again\n"
   ]
  },
  {
   "cell_type": "code",
   "execution_count": null,
   "metadata": {},
   "outputs": [],
   "source": [
    "# #Train Final Classification Layers\n",
    "\n",
    "\n",
    "\n",
    "class final_net(nn.Module):\n",
    "    def __init__(self, model):\n",
    "        super(final_net, self).__init__()\n",
    "        self.model = model\n",
    "#         self.accuracy = torchmetrics.Accuracy()\n",
    "#         self.triplet_loss = nn.TripletMarginLoss(margin=1.0, p=2)\n",
    "#         self.fc2 = nn.Linear(576, 256)\n",
    "        self.fc2 = nn.Linear(256, 64)\n",
    "        self.fc3 = nn.Linear(64, 5)\n",
    "        self.relu = nn.ReLU()\n",
    "\n",
    "        \n",
    "    def forward(self, x):\n",
    "        out = self.model(x)\n",
    "#         out = self.fc2(out)              #Without ReLU\n",
    "#         out = self.fc2(nn.ReLU(out))\n",
    "        out = self.fc2(self.relu(out))\n",
    "        out = self.fc3(self.relu(out))\n",
    "        return out\n",
    "\n",
    "\n",
    "    \n",
    "FN = final_net(resnet)\n",
    "chkpoint = torch.load('./weights/triplet_loss+focal/128/CE_loss-epoch=330-valid_acc=0.757.ckpt')['state_dict']\n",
    "\n",
    "FN.load_state_dict(chkpoint)\n",
    "\n",
    "# from torchsummary import summary\n",
    "summary(FN,(3,96,96))\n"
   ]
  },
  {
   "cell_type": "code",
   "execution_count": null,
   "metadata": {},
   "outputs": [],
   "source": [
    "# for name, param in FN.named_parameters():\n",
    "#     if \"fc2\" not in name:\n",
    "# #         print(name)\n",
    "#         param.requires_grad = False\n",
    "# #     params.append(param.view(-1))"
   ]
  },
  {
   "cell_type": "code",
   "execution_count": null,
   "metadata": {},
   "outputs": [],
   "source": [
    "\n",
    "\n",
    "# class Net(pl.LightningModule):\n",
    "#     def __init__(self, model, triplet=False):\n",
    "#         super().__init__()\n",
    "#         self.model = model\n",
    "#         self.accuracy = torchmetrics.Accuracy()\n",
    "#         self.triplet = triplet\n",
    "#         self.triplet_loss = nn.TripletMarginLoss(margin=1.0, p=2)\n",
    "#         self.fc2 = nn.Linear(64, 5)\n",
    "#         self.alpha = 1\n",
    "#         self.gamma = 2\n",
    "#         self.relu = nn.ReLU()\n",
    "\n",
    "#     def forward(self, x1, x2=None):\n",
    "      \n",
    "#         embedding = self.model(x1)\n",
    "#         return embedding\n",
    "\n",
    "#     def configure_optimizers(self):\n",
    "#         self.optimizer = SWA(torch.optim.Adam(self.model.parameters(),  lr=1e-8))\n",
    "#         self.scheduler = torch.optim.lr_scheduler.CosineAnnealingLR(self.optimizer,\n",
    "#                                                                     T_max=10,\n",
    "#                                                                     eta_min=1e-2,\n",
    "#                                                                     verbose=True)\n",
    "\n",
    "#         return {'optimizer': self.optimizer, 'lr_scheduler': self.scheduler}\n",
    "\n",
    "#     def training_step(self, train_batch, batch_idx):\n",
    "#             x, y = train_batch\n",
    "#             z = self.model(x)\n",
    "#             loss = F.cross_entropy(z,y)\n",
    "#             acc = self.accuracy(z, y)\n",
    "#             logs = {'train_loss': loss, 'train_acc': acc, 'lr': self.optimizer.param_groups[0]['lr']}\n",
    "#             self.log_dict(logs, on_step=False, on_epoch=True, prog_bar=True, logger=True)\n",
    "#             return loss\n",
    "\n",
    "#     def validation_step(self, val_batch, batch_idx):\n",
    "\n",
    "#             x, y = val_batch\n",
    "#             z = self.model(x)\n",
    "# #             z = self.fc2(z)\n",
    "#             loss = F.cross_entropy(z, y)\n",
    "#             acc = self.accuracy(z, y)\n",
    "#             logs = {'valid_loss': loss, 'valid_acc': acc}\n",
    "#             self.log_dict(logs, on_step=False, on_epoch=True, prog_bar=True, logger=True)\n",
    "#             return loss\n",
    "  \n",
    "#     def training_epoch_end(self, outs):\n",
    "#         self.log('train_acc_epoch', self.accuracy.compute())\n",
    "\n",
    "# # model\n",
    "# model = Net(FN, triplet=False)\n",
    "\n",
    "# # training\n",
    "# trainer = pl.Trainer(gVanilla-Copy1pus=1,precision=16, max_epochs=400, callbacks=[checkpoint_callback])\n",
    "# trainer.fit(model, train_dataloader, val_dataloader)\n",
    "    "
   ]
  },
  {
   "cell_type": "code",
   "execution_count": null,
   "metadata": {},
   "outputs": [],
   "source": [
    "# import torch\n",
    "# from torch import nn\n",
    "# from torch.nn import functional as F\n",
    "# from torch.utils.data import DataLoader\n",
    "# from torch.utils.data import random_split\n",
    "# from torchvision.datasets import MNIST\n",
    "# from torchvision import transforms\n",
    "# import pytorch_lightning as pl\n",
    "# import torchmetrics\n",
    "\n",
    "# import os\n",
    "# os.environ[\"CUDA_DEVICE_ORDER\"]=\"PCI_BUS_ID\"   # see issue #152\n",
    "# os.environ[\"CUDA_VISIBLE_DEVICES\"]=\"3\"\n",
    "\n",
    "# def conv_res(in_channels, out_channels, stride=1):\n",
    "#     return nn.Conv2d(in_channels, out_channels, kernel_size=3, \n",
    "#                      stride=stride, padding=1, bias=False)\n",
    "\n",
    "# # Residual block\n",
    "# class res_block(nn.Module):\n",
    "#     def __init__(self, in_channels, out_channels, stride=1, downsample=None):\n",
    "#         super(res_block, self).__init__()\n",
    "#         self.conv1 = conv_res(in_channels, out_channels, stride)\n",
    "#         self.bn = nn.BatchNorm2d(out_channels)\n",
    "#         self.relu = nn.ReLU(inplace=True)\n",
    "#         self.conv2 = conv_res(out_channels, out_channels)\n",
    "#         self.bn1 = nn.BatchNorm2d(out_channels)\n",
    "#         self.downsample = downsample\n",
    "        \n",
    "#     def forward(self, x):\n",
    "#         residual = x\n",
    "#         out = self.relu(self.bn(self.conv1(x)))\n",
    "#         out = self.bn1(self.conv2(out))\n",
    "#         if self.downsample:\n",
    "#             residual = self.downsample(x)\n",
    "#         out += residual\n",
    "#         out = self.relu(out)\n",
    "#         return out\n",
    "\n",
    "# # ResNet\n",
    "# class res_net(nn.Module):\n",
    "#     def __init__(self, block, layers, triplet=False, num_classes=10):\n",
    "#         super(res_net, self).__init__()\n",
    "#         self.in_channels = 16\n",
    "#         self.triplet = triplet\n",
    "#         self.conv = conv_res(3, 8)\n",
    "#         self.conv1 = conv_res(8, 16)\n",
    "#         self.bn = nn.BatchNorm2d(8)\n",
    "#         self.bn1 = nn.BatchNorm2d(16)\n",
    "#         self.relu = nn.ReLU(inplace=True)\n",
    "#         self.layer1 = self.rep_layer(block, 16, layers[0])\n",
    "#         self.layer2 = self.rep_layer(block, 32, layers[1], 2)\n",
    "#         self.layer3 = self.rep_layer(block, 64, layers[2], 2)\n",
    "#         self.avg_pool = nn.AvgPool2d(8)\n",
    "#         self.fc1 = nn.Linear(576, 64)\n",
    "#         self.fc2 = nn.Linear(64, num_classes)\n",
    "#         self.sigmoid = nn.Sigmoid()\n",
    "\n",
    "        \n",
    "#     def rep_layer(self, block, out_channels, blocks, stride=1):\n",
    "#         downsample = None\n",
    "#         if (stride != 1) or (self.in_channels != out_channels):\n",
    "#             downsample = nn.Sequential(\n",
    "#                 conv_res(self.in_channels, out_channels, stride=stride),\n",
    "#                 nn.BatchNorm2d(out_channels))\n",
    "#         layers = []\n",
    "#         layers.append(block(self.in_channels, out_channels, stride, downsample))\n",
    "#         self.in_channels = out_channels\n",
    "#         for i in range(1, blocks):\n",
    "#             layers.append(block(out_channels, out_channels))\n",
    "#         return nn.Sequential(*layers)\n",
    "    \n",
    "#     def forward_pass(self,x):\n",
    "#         out = self.relu(self.bn(self.conv(x)))\n",
    "#         out = self.relu(self.bn1(self.conv1(out)))\n",
    "#         out = self.layer1(out)\n",
    "#         out = self.layer2(out)\n",
    "#         out = self.layer3(out)\n",
    "#         out = self.avg_pool(out)\n",
    "#         out = out.view(out.size(0), -1)\n",
    "#         out = self.fc1(out)\n",
    "        \n",
    "#         return out\n",
    "    \n",
    "# #     def dual_pass(self, x1, x2):\n",
    "# #         return self.sigmoid(self.forward_pass(x1)), self.sigmoid(self.forward_pass(x2))\n",
    "        \n",
    "#     def forward(self, x):\n",
    "       \n",
    "#         if self.triplet:\n",
    "\n",
    "#             return self.forward_pass(x)\n",
    "        \n",
    "#         else:\n",
    "#             out = self.relu(self.forward_pass(x))\n",
    "#             return self.fc2(out)\n",
    "        \n",
    "    \n",
    "# resnet = res_net(res_block, [4, 16, 16*2], triplet=True, num_classes=5)\n",
    "\n",
    "\n",
    "\n",
    "# class final_net(nn.Module):\n",
    "#     def __init__(self, model):\n",
    "#         super(final_net, self).__init__()\n",
    "#         self.model = model\n",
    "#         self.accuracy = torchmetrics.Accuracy()\n",
    "#         self.triplet_loss = nn.TripletMarginLoss(margin=1.0, p=2)\n",
    "#         self.fc2 = nn.Linear(64, 5)\n",
    "        \n",
    "#     def forward(self, x):\n",
    "#         out = self.model(x)\n",
    "#         out = self.fc2(out)              #Without ReLU\n",
    "# #         out = self.fc2(nn.ReLU(out))\n",
    "#         return out\n",
    "\n",
    "\n",
    "# device = torch.device(\"cuda\" if torch.cuda.is_available() else \"cpu\")\n",
    "# FN = final_net(resnet).to(device)\n",
    "# FN.load_state_dict(torch.load('./weights/triplet_loss+focal/vanilla/CE_loss-epoch=151-valid_acc=0.738.ckpt')['state_dict'])\n",
    "\n",
    "# from torchsummary import summary\n",
    "# summary(FN,(3,96,96))\n",
    "\n",
    "# model  = FN.eval()\n",
    "\n",
    "\n"
   ]
  },
  {
   "cell_type": "code",
   "execution_count": null,
   "metadata": {},
   "outputs": [],
   "source": [
    "# from tqdm import tqdm\n",
    "# targets, preds = [], []\n",
    "\n",
    "# train_transform = A.Compose(\n",
    "#     [\n",
    "# #        A.ShiftScaleRotate(rotate_limit=(-360, 360), shift_limit=(0.1, 0.12), scale_limit=(0.1, 0.12)),\n",
    "# #        A.HorizontalFlip(p=0.6),\n",
    "# #        A.Rotate (limit=120),\n",
    "# #        A.Perspective(scale=(0.05, 0.1)),\n",
    "# #        A.Affine (scale=1,translate_percent=0.1,rotate=40,cval=0.90,fit_output=True),\n",
    "#        ToTensorV2(),\n",
    "#     ]\n",
    "# )\n",
    "\n",
    "# valid_transform = A.Compose(\n",
    "#     [\n",
    "#        ToTensorV2(),\n",
    "#     ]\n",
    "# )\n",
    "\n",
    "# val_dataset = vdataset(val_df, transform = valid_transform)\n",
    "\n",
    "# val_dataloader = DataLoader(val_dataset, batch_size=8*4,\n",
    "#                         shuffle=False, num_workers=32)\n",
    "\n",
    "# for batch_idx, data in tqdm(enumerate(val_dataloader)):\n",
    "#     x, y = data\n",
    "#     targets.append(y)\n",
    "#     predictions = model(x.to(device))\n",
    "#     preds.append(torch.argmax(predictions,axis=1).cpu().detach().numpy())\n",
    "\n",
    "\n"
   ]
  },
  {
   "cell_type": "code",
   "execution_count": null,
   "metadata": {},
   "outputs": [],
   "source": [
    "# np.asarray(torch.argmax(predictions,axis=1).cpu().detach().numpy())"
   ]
  },
  {
   "cell_type": "code",
   "execution_count": null,
   "metadata": {},
   "outputs": [],
   "source": [
    "# targets = np.asarray(targets)\n",
    "# preds = np.asarray(preds)"
   ]
  },
  {
   "cell_type": "code",
   "execution_count": null,
   "metadata": {},
   "outputs": [],
   "source": [
    "# y"
   ]
  },
  {
   "cell_type": "code",
   "execution_count": null,
   "metadata": {},
   "outputs": [],
   "source": []
  }
 ],
 "metadata": {
  "accelerator": "GPU",
  "colab": {
   "name": "Robet Bosch Viper.ipynb",
   "provenance": []
  },
  "kernelspec": {
   "display_name": "Python 3",
   "language": "python",
   "name": "python3"
  },
  "language_info": {
   "codemirror_mode": {
    "name": "ipython",
    "version": 3
   },
   "file_extension": ".py",
   "mimetype": "text/x-python",
   "name": "python",
   "nbconvert_exporter": "python",
   "pygments_lexer": "ipython3",
   "version": "3.8.3"
  }
 },
 "nbformat": 4,
 "nbformat_minor": 1
}
